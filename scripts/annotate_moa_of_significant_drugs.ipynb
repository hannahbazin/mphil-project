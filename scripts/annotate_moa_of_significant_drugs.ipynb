{
 "cells": [
  {
   "cell_type": "markdown",
   "id": "74b90354",
   "metadata": {},
   "source": [
    "UPDATE: in the interest of time, this step is no longer being carried out. Nicholas will receive all significant drugs and their targets, and the in silico knockout will identify any promising targets and therefore drugs. This is because the in silico knockout is extremely fast to do."
   ]
  },
  {
   "cell_type": "markdown",
   "id": "4818be3f",
   "metadata": {},
   "source": [
    "## Identifying inhibition / activation of significant drugs after drug proximity analysis\n",
    "\n",
    "After running drug proximity analysis, we need to find out whether the prioritised drugs inhibit or activate their target. This way we can do in silico knockout experiments and also in vitro validation down the line."
   ]
  },
  {
   "cell_type": "code",
   "execution_count": 56,
   "id": "2ecaaa33",
   "metadata": {},
   "outputs": [],
   "source": [
    "import pandas as pd\n",
    "import sqlite3"
   ]
  },
  {
   "cell_type": "code",
   "execution_count": 3,
   "id": "e5f04ecf",
   "metadata": {},
   "outputs": [],
   "source": [
    "z_score_thres = -1.96"
   ]
  },
  {
   "cell_type": "markdown",
   "id": "9c8dd7f3",
   "metadata": {},
   "source": [
    "### Significant drugs for step 1 of differentiation"
   ]
  },
  {
   "cell_type": "code",
   "execution_count": 35,
   "id": "f5439960",
   "metadata": {},
   "outputs": [
    {
     "name": "stdout",
     "output_type": "stream",
     "text": [
      "Number of total drugs analysed for step 1 of differentiation: 2244\n",
      "Number of significant drugs for step 1 of differentiation 668\n",
      "Significant drugs for step 1 saved to ../results/humanPVATsn/network_analysis/proximity_significant_drugs/significant_drugs_step1.csv\n"
     ]
    }
   ],
   "source": [
    "# Load proximity results and filter for significant drugs\n",
    "proximity_step1 = pd.read_csv(\"../results/humanPVATsn/network_analysis/proximity_step1.csv\")\n",
    "proximity_step1_significant = proximity_step1[proximity_step1[\"z_score\"] <= z_score_thres]\n",
    "\n",
    "# Print length before and after filtering for significance\n",
    "print(\"Number of total drugs analysed for step 1 of differentiation:\", len(proximity_step1))\n",
    "print(\"Number of significant drugs for step 1 of differentiation\", len(proximity_step1_significant))\n",
    "\n",
    "# Extract significant drugs\n",
    "significant_drugs_step1 = proximity_step1_significant[\"drug\"].str.lower().unique()\n",
    "\n",
    "# Save significant drugs to CSV file\n",
    "step1_significant_drugs_path = \"../results/humanPVATsn/network_analysis/proximity_significant_drugs/significant_drugs_step1.csv\"\n",
    "significant_drugs_step1_df = pd.DataFrame(significant_drugs_step1, columns=[\"drug\"])\n",
    "significant_drugs_step1_df.to_csv(step1_significant_drugs_path, index=False, header=False)\n",
    "print(\"Significant drugs for step 1 saved to\", step1_significant_drugs_path)"
   ]
  },
  {
   "cell_type": "code",
   "execution_count": 30,
   "id": "3b389f2e",
   "metadata": {},
   "outputs": [
    {
     "name": "stdout",
     "output_type": "stream",
     "text": [
      "Number of total drug-target interactions in DPI: 15951\n",
      "Number of drug-target interactions involving significant drugs in DP in step 1: 5808\n",
      "     Drug_Name Drug_Target  Source\n",
      "5     abacavir       ABCG2  ChEMBL\n",
      "6     abacavir         ALB  ChEMBL\n",
      "8   abametapir        CCR1  ChEMBL\n",
      "9   abametapir        CCR5  ChEMBL\n",
      "10  abametapir        CCR8  ChEMBL\n",
      "Source\n",
      "ChEMBL      4897\n",
      "DrugBank     562\n",
      "Both         349\n",
      "Name: count, dtype: int64\n"
     ]
    }
   ],
   "source": [
    "# Load existing DPI mapping\n",
    "combined_DPI_with_source = pd.read_csv(\"../data/networks/combined_DPI_with_source.csv\")\n",
    "combined_DPI_with_source[\"Drug_Name\"] = combined_DPI_with_source[\"Drug_Name\"].str.lower() # standardise to lower case to match drug proximity results\n",
    "\n",
    "# Filter DPI to keep only targets of significant drugs\n",
    "combined_dpi_with_source_significant = combined_DPI_with_source[combined_DPI_with_source[\"Drug_Name\"].isin(significant_drugs_step1)]\n",
    "\n",
    "# Print length of DPI before and after filtering\n",
    "print(\"Number of total drug-target interactions in DPI:\", len(combined_DPI_with_source))\n",
    "print(\"Number of drug-target interactions involving significant drugs in DP in step 1:\", len(combined_dpi_with_source_significant))\n",
    "\n",
    "print(combined_dpi_with_source_significant.head())\n",
    "print(combined_dpi_with_source_significant[\"Source\"].value_counts())"
   ]
  },
  {
   "cell_type": "markdown",
   "id": "2c8766fb",
   "metadata": {},
   "source": [
    "### Summarise source of significant genes\n",
    "This function checks where the top \"n_top\" significant drugs come from (ChEMBL, DrugBank or both)."
   ]
  },
  {
   "cell_type": "code",
   "execution_count": null,
   "id": "2be2b415",
   "metadata": {},
   "outputs": [],
   "source": [
    "def summarise_top_drug_sources(proximity_df, dpi_path, z_score_threshold=-1.96, n_top=100, label=\"step\"):\n",
    "    \"\"\"\n",
    "    Summarise the source breakdown of the top N significant drugs based on z-score.\n",
    "\n",
    "    Parameters:\n",
    "        proximity_df: DataFrame containing 'drug' and 'z_score' columns.\n",
    "        dpi_path: Path to combined_DPI_with_source.csv.\n",
    "        z_score_threshold: z-score threshold for significance.\n",
    "        n_top: Number of top significant drugs to include.\n",
    "        label: Label to identify the context (e.g., 'step 1 of differentiation').\n",
    "\n",
    "    Returns:\n",
    "        A Series with counts for each drug source (ChEMBL only, DrugBank only, Both).\n",
    "    \"\"\"\n",
    "    print(f\"======== FOR {label.upper()}, GETTING TOP {n_top} MOST SIGNIFICANT DRUGS ========\")\n",
    "\n",
    "    # Filter significant drugs and get top N unique by z-score\n",
    "    proximity_significant = proximity_df[proximity_df[\"z_score\"] <= z_score_threshold]\n",
    "    top_unique_drugs = (\n",
    "        proximity_significant\n",
    "        .sort_values(\"z_score\")[\"drug\"]\n",
    "        .str.lower()\n",
    "        .drop_duplicates()\n",
    "        .head(n_top)\n",
    "    )\n",
    "    print(f\"Total top {n_top} unique significant drugs: {len(top_unique_drugs)}\")\n",
    "\n",
    "    # Load DPI and standardise drug names\n",
    "    dpi_df = pd.read_csv(dpi_path)\n",
    "    dpi_df[\"Drug_Name\"] = dpi_df[\"Drug_Name\"].str.lower()\n",
    "\n",
    "    # Count how many top drugs are mapped\n",
    "    dpi_drugs = dpi_df[\"Drug_Name\"].unique()\n",
    "    n_mapped = sum(drug in dpi_drugs for drug in top_unique_drugs)\n",
    "    n_unmapped = n_top - n_mapped\n",
    "\n",
    "    print(f\"Number of top {n_top} drugs that map to DPI: {n_mapped}\")\n",
    "    print(f\"Number of top {n_top} drugs with no known gene targets: {n_unmapped}\")\n",
    "\n",
    "    # Filter DPI and collapse source info\n",
    "    dpi_top = dpi_df[dpi_df[\"Drug_Name\"].isin(top_unique_drugs)]\n",
    "    unique_drugs_with_source = dpi_top.drop_duplicates(subset=[\"Drug_Name\", \"Source\"])\n",
    "    source_per_drug = (\n",
    "        unique_drugs_with_source\n",
    "        .groupby(\"Drug_Name\")[\"Source\"]\n",
    "        .agg(lambda x: \"Both\" if set(x) == {\"ChEMBL\", \"DrugBank\"} else x.iloc[0])\n",
    "    )\n",
    "\n",
    "    # Count sources\n",
    "    counts = source_per_drug.value_counts()\n",
    "    print(f\"\\nBreakdown of top {n_top} significant drugs with DPI mapping:\")\n",
    "    print(f\"- From ChEMBL only: {counts.get('ChEMBL', 0)}\")\n",
    "    print(f\"- From DrugBank only: {counts.get('DrugBank', 0)}\")\n",
    "    print(f\"- From both: {counts.get('Both', 0)}\")\n",
    "\n",
    "    return counts"
   ]
  },
  {
   "cell_type": "code",
   "execution_count": 55,
   "id": "bede6937",
   "metadata": {},
   "outputs": [
    {
     "name": "stdout",
     "output_type": "stream",
     "text": [
      "======== FOR STEP 1 OF DIFFERENTIATION, GETTING TOP 100 MOST SIGNIFICANT DRUGS ========\n",
      "Total top 100 unique significant drugs: 100\n",
      "Number of top 100 drugs that map to DPI: 100\n",
      "Number of top 100 drugs with no known gene targets: 0\n",
      "\n",
      "Breakdown of top 100 significant drugs with DPI mapping:\n",
      "- From ChEMBL only: 28\n",
      "- From DrugBank only: 60\n",
      "- From both: 12\n"
     ]
    }
   ],
   "source": [
    "# Summarise sources for step 1 significant drugs\n",
    "step1_source_counts = summarise_top_drug_sources(\n",
    "    proximity_df=proximity_step1,\n",
    "    dpi_path=\"../data/networks/combined_DPI_with_source.csv\",\n",
    "    z_score_threshold=z_score_thres,\n",
    "    n_top=100,\n",
    "    label=\"step 1 of differentiation\"\n",
    ")"
   ]
  },
  {
   "cell_type": "markdown",
   "id": "8359867d",
   "metadata": {},
   "source": [
    "### ChEMBL MoA\n",
    "This chunk adds information about whether the drug is an inhibitor or activator etc. for all significant drugs coming from the ChEMBL database."
   ]
  },
  {
   "cell_type": "markdown",
   "id": "464b7d7f",
   "metadata": {},
   "source": [
    "#### Step 1"
   ]
  },
  {
   "cell_type": "code",
   "execution_count": 69,
   "id": "b3ed549e",
   "metadata": {},
   "outputs": [
    {
     "name": "stdout",
     "output_type": "stream",
     "text": [
      "Number of unique ChEMBL-related significant drugs for step 1: 415\n"
     ]
    },
    {
     "ename": "DatabaseError",
     "evalue": "Execution failed on sql '\nSELECT \n    m.compound_name, \n    c.accession AS uniprot_id, \n    m.action_type, \n    m.mechanism_of_action\nFROM mechanism m\nJOIN target_dictionary t ON m.target_chembl_id = t.target_chembl_id\nJOIN target_components tc ON t.target_chembl_id = tc.target_chembl_id\nJOIN component_sequences c ON tc.component_id = c.component_id\nWHERE m.action_type IS NOT NULL\n': no such table: mechanism",
     "output_type": "error",
     "traceback": [
      "\u001b[0;31m---------------------------------------------------------------------------\u001b[0m",
      "\u001b[0;31mOperationalError\u001b[0m                          Traceback (most recent call last)",
      "File \u001b[0;32m~/Desktop/Cambridge/Academics/Han_Lab/MPhil/mphil-project/bat_proximity_analysis/lib/python3.9/site-packages/pandas/io/sql.py:2674\u001b[0m, in \u001b[0;36mSQLiteDatabase.execute\u001b[0;34m(self, sql, params)\u001b[0m\n\u001b[1;32m   2673\u001b[0m \u001b[38;5;28;01mtry\u001b[39;00m:\n\u001b[0;32m-> 2674\u001b[0m     \u001b[43mcur\u001b[49m\u001b[38;5;241;43m.\u001b[39;49m\u001b[43mexecute\u001b[49m\u001b[43m(\u001b[49m\u001b[43msql\u001b[49m\u001b[43m,\u001b[49m\u001b[43m \u001b[49m\u001b[38;5;241;43m*\u001b[39;49m\u001b[43margs\u001b[49m\u001b[43m)\u001b[49m\n\u001b[1;32m   2675\u001b[0m     \u001b[38;5;28;01mreturn\u001b[39;00m cur\n",
      "\u001b[0;31mOperationalError\u001b[0m: no such table: mechanism",
      "\nThe above exception was the direct cause of the following exception:\n",
      "\u001b[0;31mDatabaseError\u001b[0m                             Traceback (most recent call last)",
      "Cell \u001b[0;32mIn[69], line 24\u001b[0m\n\u001b[1;32m     10\u001b[0m \u001b[38;5;66;03m# Query ChEMBL for mechanism of action\u001b[39;00m\n\u001b[1;32m     11\u001b[0m moa_query \u001b[38;5;241m=\u001b[39m \u001b[38;5;124m\"\"\"\u001b[39m\n\u001b[1;32m     12\u001b[0m \u001b[38;5;124mSELECT \u001b[39m\n\u001b[1;32m     13\u001b[0m \u001b[38;5;124m    m.compound_name, \u001b[39m\n\u001b[0;32m   (...)\u001b[0m\n\u001b[1;32m     21\u001b[0m \u001b[38;5;124mWHERE m.action_type IS NOT NULL\u001b[39m\n\u001b[1;32m     22\u001b[0m \u001b[38;5;124m\"\"\"\u001b[39m\n\u001b[0;32m---> 24\u001b[0m moa_df \u001b[38;5;241m=\u001b[39m \u001b[43mpd\u001b[49m\u001b[38;5;241;43m.\u001b[39;49m\u001b[43mread_sql_query\u001b[49m\u001b[43m(\u001b[49m\u001b[43mmoa_query\u001b[49m\u001b[43m,\u001b[49m\u001b[43m \u001b[49m\u001b[43mconn\u001b[49m\u001b[43m)\u001b[49m\n\u001b[1;32m     25\u001b[0m conn\u001b[38;5;241m.\u001b[39mclose()\n",
      "File \u001b[0;32m~/Desktop/Cambridge/Academics/Han_Lab/MPhil/mphil-project/bat_proximity_analysis/lib/python3.9/site-packages/pandas/io/sql.py:526\u001b[0m, in \u001b[0;36mread_sql_query\u001b[0;34m(sql, con, index_col, coerce_float, params, parse_dates, chunksize, dtype, dtype_backend)\u001b[0m\n\u001b[1;32m    523\u001b[0m \u001b[38;5;28;01massert\u001b[39;00m dtype_backend \u001b[38;5;129;01mis\u001b[39;00m \u001b[38;5;129;01mnot\u001b[39;00m lib\u001b[38;5;241m.\u001b[39mno_default\n\u001b[1;32m    525\u001b[0m \u001b[38;5;28;01mwith\u001b[39;00m pandasSQL_builder(con) \u001b[38;5;28;01mas\u001b[39;00m pandas_sql:\n\u001b[0;32m--> 526\u001b[0m     \u001b[38;5;28;01mreturn\u001b[39;00m \u001b[43mpandas_sql\u001b[49m\u001b[38;5;241;43m.\u001b[39;49m\u001b[43mread_query\u001b[49m\u001b[43m(\u001b[49m\n\u001b[1;32m    527\u001b[0m \u001b[43m        \u001b[49m\u001b[43msql\u001b[49m\u001b[43m,\u001b[49m\n\u001b[1;32m    528\u001b[0m \u001b[43m        \u001b[49m\u001b[43mindex_col\u001b[49m\u001b[38;5;241;43m=\u001b[39;49m\u001b[43mindex_col\u001b[49m\u001b[43m,\u001b[49m\n\u001b[1;32m    529\u001b[0m \u001b[43m        \u001b[49m\u001b[43mparams\u001b[49m\u001b[38;5;241;43m=\u001b[39;49m\u001b[43mparams\u001b[49m\u001b[43m,\u001b[49m\n\u001b[1;32m    530\u001b[0m \u001b[43m        \u001b[49m\u001b[43mcoerce_float\u001b[49m\u001b[38;5;241;43m=\u001b[39;49m\u001b[43mcoerce_float\u001b[49m\u001b[43m,\u001b[49m\n\u001b[1;32m    531\u001b[0m \u001b[43m        \u001b[49m\u001b[43mparse_dates\u001b[49m\u001b[38;5;241;43m=\u001b[39;49m\u001b[43mparse_dates\u001b[49m\u001b[43m,\u001b[49m\n\u001b[1;32m    532\u001b[0m \u001b[43m        \u001b[49m\u001b[43mchunksize\u001b[49m\u001b[38;5;241;43m=\u001b[39;49m\u001b[43mchunksize\u001b[49m\u001b[43m,\u001b[49m\n\u001b[1;32m    533\u001b[0m \u001b[43m        \u001b[49m\u001b[43mdtype\u001b[49m\u001b[38;5;241;43m=\u001b[39;49m\u001b[43mdtype\u001b[49m\u001b[43m,\u001b[49m\n\u001b[1;32m    534\u001b[0m \u001b[43m        \u001b[49m\u001b[43mdtype_backend\u001b[49m\u001b[38;5;241;43m=\u001b[39;49m\u001b[43mdtype_backend\u001b[49m\u001b[43m,\u001b[49m\n\u001b[1;32m    535\u001b[0m \u001b[43m    \u001b[49m\u001b[43m)\u001b[49m\n",
      "File \u001b[0;32m~/Desktop/Cambridge/Academics/Han_Lab/MPhil/mphil-project/bat_proximity_analysis/lib/python3.9/site-packages/pandas/io/sql.py:2738\u001b[0m, in \u001b[0;36mSQLiteDatabase.read_query\u001b[0;34m(self, sql, index_col, coerce_float, parse_dates, params, chunksize, dtype, dtype_backend)\u001b[0m\n\u001b[1;32m   2727\u001b[0m \u001b[38;5;28;01mdef\u001b[39;00m\u001b[38;5;250m \u001b[39m\u001b[38;5;21mread_query\u001b[39m(\n\u001b[1;32m   2728\u001b[0m     \u001b[38;5;28mself\u001b[39m,\n\u001b[1;32m   2729\u001b[0m     sql,\n\u001b[0;32m   (...)\u001b[0m\n\u001b[1;32m   2736\u001b[0m     dtype_backend: DtypeBackend \u001b[38;5;241m|\u001b[39m Literal[\u001b[38;5;124m\"\u001b[39m\u001b[38;5;124mnumpy\u001b[39m\u001b[38;5;124m\"\u001b[39m] \u001b[38;5;241m=\u001b[39m \u001b[38;5;124m\"\u001b[39m\u001b[38;5;124mnumpy\u001b[39m\u001b[38;5;124m\"\u001b[39m,\n\u001b[1;32m   2737\u001b[0m ) \u001b[38;5;241m-\u001b[39m\u001b[38;5;241m>\u001b[39m DataFrame \u001b[38;5;241m|\u001b[39m Iterator[DataFrame]:\n\u001b[0;32m-> 2738\u001b[0m     cursor \u001b[38;5;241m=\u001b[39m \u001b[38;5;28;43mself\u001b[39;49m\u001b[38;5;241;43m.\u001b[39;49m\u001b[43mexecute\u001b[49m\u001b[43m(\u001b[49m\u001b[43msql\u001b[49m\u001b[43m,\u001b[49m\u001b[43m \u001b[49m\u001b[43mparams\u001b[49m\u001b[43m)\u001b[49m\n\u001b[1;32m   2739\u001b[0m     columns \u001b[38;5;241m=\u001b[39m [col_desc[\u001b[38;5;241m0\u001b[39m] \u001b[38;5;28;01mfor\u001b[39;00m col_desc \u001b[38;5;129;01min\u001b[39;00m cursor\u001b[38;5;241m.\u001b[39mdescription]\n\u001b[1;32m   2741\u001b[0m     \u001b[38;5;28;01mif\u001b[39;00m chunksize \u001b[38;5;129;01mis\u001b[39;00m \u001b[38;5;129;01mnot\u001b[39;00m \u001b[38;5;28;01mNone\u001b[39;00m:\n",
      "File \u001b[0;32m~/Desktop/Cambridge/Academics/Han_Lab/MPhil/mphil-project/bat_proximity_analysis/lib/python3.9/site-packages/pandas/io/sql.py:2686\u001b[0m, in \u001b[0;36mSQLiteDatabase.execute\u001b[0;34m(self, sql, params)\u001b[0m\n\u001b[1;32m   2683\u001b[0m     \u001b[38;5;28;01mraise\u001b[39;00m ex \u001b[38;5;28;01mfrom\u001b[39;00m\u001b[38;5;250m \u001b[39m\u001b[38;5;21;01minner_exc\u001b[39;00m\n\u001b[1;32m   2685\u001b[0m ex \u001b[38;5;241m=\u001b[39m DatabaseError(\u001b[38;5;124mf\u001b[39m\u001b[38;5;124m\"\u001b[39m\u001b[38;5;124mExecution failed on sql \u001b[39m\u001b[38;5;124m'\u001b[39m\u001b[38;5;132;01m{\u001b[39;00msql\u001b[38;5;132;01m}\u001b[39;00m\u001b[38;5;124m'\u001b[39m\u001b[38;5;124m: \u001b[39m\u001b[38;5;132;01m{\u001b[39;00mexc\u001b[38;5;132;01m}\u001b[39;00m\u001b[38;5;124m\"\u001b[39m)\n\u001b[0;32m-> 2686\u001b[0m \u001b[38;5;28;01mraise\u001b[39;00m ex \u001b[38;5;28;01mfrom\u001b[39;00m\u001b[38;5;250m \u001b[39m\u001b[38;5;21;01mexc\u001b[39;00m\n",
      "\u001b[0;31mDatabaseError\u001b[0m: Execution failed on sql '\nSELECT \n    m.compound_name, \n    c.accession AS uniprot_id, \n    m.action_type, \n    m.mechanism_of_action\nFROM mechanism m\nJOIN target_dictionary t ON m.target_chembl_id = t.target_chembl_id\nJOIN target_components tc ON t.target_chembl_id = tc.target_chembl_id\nJOIN component_sequences c ON tc.component_id = c.component_id\nWHERE m.action_type IS NOT NULL\n': no such table: mechanism"
     ]
    }
   ],
   "source": [
    "# Filter for ChEMBL drugs only\n",
    "chembl_drugs = combined_dpi_with_source_significant[\n",
    "    combined_dpi_with_source_significant[\"Source\"].isin([\"ChEMBL\", \"Both\"])\n",
    "][\"Drug_Name\"].unique()\n",
    "print(f\"Number of unique ChEMBL-related significant drugs for step 1: {len(chembl_drugs)}\")\n",
    "\n",
    "# Connect to ChEMBL SQLite database\n",
    "conn = sqlite3.connect(\"../data/networks/chembl_35/chembl_35.db\")\n",
    "\n",
    "# Query ChEMBL for mechanism of action\n",
    "moa_query = \"\"\"\n",
    "SELECT \n",
    "    m.compound_name, \n",
    "    c.accession AS uniprot_id, \n",
    "    m.action_type, \n",
    "    m.mechanism_of_action\n",
    "FROM mechanism m\n",
    "JOIN target_dictionary t ON m.target_chembl_id = t.target_chembl_id\n",
    "JOIN target_components tc ON t.target_chembl_id = tc.target_chembl_id\n",
    "JOIN component_sequences c ON tc.component_id = c.component_id\n",
    "WHERE m.action_type IS NOT NULL\n",
    "\"\"\"\n",
    "\n",
    "moa_df = pd.read_sql_query(moa_query, conn)\n",
    "conn.close()"
   ]
  },
  {
   "cell_type": "code",
   "execution_count": 68,
   "id": "ed403246",
   "metadata": {},
   "outputs": [
    {
     "name": "stdout",
     "output_type": "stream",
     "text": [
      "action_type\n",
      "assay_type\n",
      "chembl_id_lookup\n",
      "confidence_score_lookup\n",
      "curation_lookup\n",
      "chembl_release\n",
      "source\n",
      "relationship_type\n",
      "target_type\n",
      "variant_sequences\n",
      "bioassay_ontology\n",
      "data_validity_lookup\n",
      "activity_smid\n",
      "activity_stds_lookup\n",
      "assay_classification\n",
      "atc_classification\n",
      "bio_component_sequences\n",
      "component_sequences\n",
      "protein_classification\n",
      "domains\n",
      "go_classification\n",
      "structural_alert_sets\n",
      "products\n",
      "frac_classification\n",
      "hrac_classification\n",
      "irac_classification\n",
      "research_stem\n",
      "organism_class\n",
      "patent_use_codes\n",
      "usan_stems\n",
      "version\n",
      "cell_dictionary\n",
      "docs\n",
      "target_dictionary\n",
      "tissue_dictionary\n",
      "molecule_dictionary\n",
      "activity_supp\n",
      "component_class\n",
      "component_domains\n",
      "component_go\n",
      "component_synonyms\n",
      "structural_alerts\n",
      "defined_daily_dose\n",
      "product_patents\n",
      "protein_class_synonyms\n",
      "research_companies\n",
      "assays\n",
      "compound_records\n",
      "binding_sites\n",
      "biotherapeutics\n",
      "compound_properties\n",
      "compound_structural_alerts\n",
      "compound_structures\n",
      "molecule_atc_classification\n",
      "molecule_frac_classification\n",
      "molecule_hierarchy\n",
      "molecule_hrac_classification\n",
      "molecule_irac_classification\n",
      "molecule_synonyms\n",
      "target_components\n",
      "target_relations\n",
      "activities\n",
      "assay_class_map\n",
      "assay_parameters\n",
      "biotherapeutic_components\n",
      "drug_indication\n",
      "drug_mechanism\n",
      "drug_warning\n",
      "formulations\n",
      "metabolism\n",
      "site_components\n",
      "activity_properties\n",
      "activity_supp_map\n",
      "indication_refs\n",
      "ligand_eff\n",
      "mechanism_refs\n",
      "metabolism_refs\n",
      "predicted_binding_domains\n",
      "warning_refs\n",
      "sqlite_stat1\n"
     ]
    }
   ],
   "source": [
    "import sqlite3\n",
    "\n",
    "conn = sqlite3.connect(\"../data/networks/chembl_35/chembl_35_sqlite/chembl_35.db\")\n",
    "cursor = conn.cursor()\n",
    "\n",
    "# List all available tables in the database\n",
    "cursor.execute(\"SELECT name FROM sqlite_master WHERE type='table';\")\n",
    "tables = cursor.fetchall()\n",
    "conn.close()\n",
    "\n",
    "for t in tables:\n",
    "    print(t[0])"
   ]
  },
  {
   "cell_type": "code",
   "execution_count": null,
   "id": "a54acbd0",
   "metadata": {},
   "outputs": [],
   "source": []
  }
 ],
 "metadata": {
  "kernelspec": {
   "display_name": "bat_proximity_analysis",
   "language": "python",
   "name": "python3"
  },
  "language_info": {
   "codemirror_mode": {
    "name": "ipython",
    "version": 3
   },
   "file_extension": ".py",
   "mimetype": "text/x-python",
   "name": "python",
   "nbconvert_exporter": "python",
   "pygments_lexer": "ipython3",
   "version": "3.9.12"
  }
 },
 "nbformat": 4,
 "nbformat_minor": 5
}
