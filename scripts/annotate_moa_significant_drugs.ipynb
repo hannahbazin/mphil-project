{
 "cells": [
  {
   "cell_type": "markdown",
   "id": "4818be3f",
   "metadata": {},
   "source": [
    "# Identifying mechanism of action (MoA) of the top significant drugs after drug proximity analysis\n",
    "\n",
    "After running drug proximity analysis, the top prioritised significant drugs will have their MoA recovered and this will guide the decision for wet lab validation. You can decide what percentage of the drugs you want to get the MoA for with the \"top_percent\" variable."
   ]
  },
  {
   "cell_type": "code",
   "execution_count": 166,
   "id": "2ecaaa33",
   "metadata": {},
   "outputs": [],
   "source": [
    "import pandas as pd\n",
    "import csv\n",
    "import requests\n",
    "from tqdm import tqdm"
   ]
  },
  {
   "cell_type": "code",
   "execution_count": 167,
   "id": "07e9b56a",
   "metadata": {},
   "outputs": [],
   "source": [
    "# This is the percentage of top significant drugs you want to do the MoA analysis for, if you set it to 0.1, the top 10% drugs (by z-value) will get an added MoA column, the rest will not\n",
    "top_percent = 1.0"
   ]
  },
  {
   "cell_type": "markdown",
   "id": "124aace2",
   "metadata": {},
   "source": [
    "## For the results from drug proximity analysis run on the whole gene list (1000 iterations)"
   ]
  },
  {
   "cell_type": "code",
   "execution_count": 168,
   "id": "db04a83e",
   "metadata": {},
   "outputs": [],
   "source": [
    "# ---------------------- STEP 1: Load significant drug data ---------------------- #\n",
    "\n",
    "# Load data\n",
    "significant_drugs_whole_1000_step1 = pd.read_csv(\"../results/humanPVATsn/network_analysis/proximity_significant_drugs/significant_drugs_whole_1000_step1.csv\", index_col=0)\n",
    "significant_drugs_whole_1000_step2 = pd.read_csv(\"../results/humanPVATsn/network_analysis/proximity_significant_drugs/significant_drugs_whole_1000_step2.csv\", index_col=0)\n",
    "significant_drugs_whole_1000_step3 = pd.read_csv(\"../results/humanPVATsn/network_analysis/proximity_significant_drugs/significant_drugs_whole_1000_step3.csv\", index_col=0)\n",
    "\n",
    "# Extract top 10% significant drugs\n",
    "top_percent_step1 = round(top_percent * len(significant_drugs_whole_1000_step1))\n",
    "top_percent_step2 = round(top_percent * len(significant_drugs_whole_1000_step2))\n",
    "top_percent_step3 = round(top_percent * len(significant_drugs_whole_1000_step3))\n",
    "\n",
    "top_percent_drugs_step1 = significant_drugs_whole_1000_step1.head(top_percent_step1).copy()\n",
    "top_percent_drugs_step2 = significant_drugs_whole_1000_step2.head(top_percent_step2).copy()\n",
    "top_percent_drugs_step3 = significant_drugs_whole_1000_step3.head(top_percent_step3).copy()\n",
    "\n",
    "# Get source of drug via combined_DPI_with_source.csv which contains the DPI list with each row indicating whether it came from ChEMBL or DrugBank or both\n",
    "combined_dpi_with_source = pd.read_csv(\"../data/networks/combined_DPI_with_source.csv\")\n",
    "\n",
    "def determine_source(sources):\n",
    "    \"\"\"Build a mapping from drug name to source(s)\"\"\"\n",
    "    sources_set = set(sources)\n",
    "    if sources_set == {\"ChEMBL\"}:\n",
    "        return \"ChEMBL\"\n",
    "    elif sources_set == {\"DrugBank\"}:\n",
    "        return \"DrugBank\"\n",
    "    else:\n",
    "        return \"Both\"\n",
    "\n",
    "# Map each drug to its source\n",
    "drug_to_source = (\n",
    "    combined_dpi_with_source\n",
    "    .groupby(\"Drug_Name\")[\"Source\"]\n",
    "    .apply(determine_source)\n",
    "    .to_dict()\n",
    ")\n",
    "\n",
    "# Add source info to each top_percent_drugs table\n",
    "for df in [top_percent_drugs_step1, top_percent_drugs_step2, top_percent_drugs_step3]:\n",
    "    df[\"Source\"] = df[\"drug\"].map(drug_to_source)"
   ]
  },
  {
   "cell_type": "markdown",
   "id": "a61f704c",
   "metadata": {},
   "source": [
    "### For drugs from DrugBank, get the MoA from pharmacologies.csv"
   ]
  },
  {
   "cell_type": "code",
   "execution_count": 170,
   "id": "1e4fe992",
   "metadata": {},
   "outputs": [
    {
     "name": "stdout",
     "output_type": "stream",
     "text": [
      "Step 1 MoA matches: 440 / 440\n",
      "Step 2 MoA matches: 530 / 530\n",
      "Step 3 MoA matches: 422 / 422\n"
     ]
    }
   ],
   "source": [
    "# Extract drugs from DrugBank or from both DrugBank and ChEMBL (DrugBank has more accessible MoA than ChEMBL)\n",
    "top_percent_drugs_step1_drugbank = top_percent_drugs_step1[(top_percent_drugs_step1[\"Source\"] == \"DrugBank\") | (top_percent_drugs_step1[\"Source\"] == \"Both\")]\n",
    "top_percent_drugs_step2_drugbank = top_percent_drugs_step2[(top_percent_drugs_step2[\"Source\"] == \"DrugBank\") | (top_percent_drugs_step2[\"Source\"] == \"Both\")]\n",
    "top_percent_drugs_step3_drugbank = top_percent_drugs_step3[(top_percent_drugs_step3[\"Source\"] == \"DrugBank\") | (top_percent_drugs_step3[\"Source\"] == \"Both\")]\n",
    "\n",
    "# ---------------------- STEP 2: Load DrugBank DPI ---------------------- #\n",
    "\n",
    "# Load DrugBank DPI with DrugBank IDs\n",
    "drugbank_dpi_with_id = pd.read_csv(\"../data/networks/drugbank_DPI_with_ID.csv\")\n",
    "drugbank_dpi_with_id[\"Drug_Name\"] = drugbank_dpi_with_id[\"Drug_Name\"].str.lower()\n",
    "drugbank_dpi_with_id[\"Drug_ID\"] = drugbank_dpi_with_id[\"Drug_ID\"].astype(int)\n",
    "\n",
    "# Map Drug_Name -> Drug_ID using drugbank_dpi_with_id\n",
    "drug_name_to_id = (\n",
    "    drugbank_dpi_with_id\n",
    "    .drop_duplicates(\"Drug_Name\")\n",
    "    .set_index(\"Drug_Name\")[\"Drug_ID\"]\n",
    "    .to_dict()\n",
    ")\n",
    "\n",
    "# ---------------------- STEP 3: Load and clean pharmacologies.csv ---------------------- #\n",
    "\n",
    "# Load pharmacology MoA information\n",
    "# pharmacologies = pd.read_csv(\"../data/networks/milner_drugbank_postgresql/pharmacologies.csv\")\n",
    "# pharmacologies_moa = pharmacologies.iloc[:, [0, 4]] # 0 = id and 4 = mechanism_of_action\n",
    "# pharmacologies_moa.columns = [\"Drug_ID\", \"MoA\"]\n",
    "\n",
    "moa_data = []\n",
    "with open(\"../data/networks/milner_drugbank_postgresql/pharmacologies.csv\", \"r\", encoding=\"utf-8\") as f:\n",
    "    reader = csv.reader(f)\n",
    "    for row in reader:\n",
    "        if len(row) >= 5:\n",
    "            try:\n",
    "                moa_data.append((int(row[1]), row[4]))  # drug_id, mechanism_of_action\n",
    "            except ValueError:\n",
    "                continue  # skip malformed rows\n",
    "\n",
    "pharmacologies_moa_clean = pd.DataFrame(moa_data, columns=[\"Drug_ID\", \"MoA\"])\n",
    "\n",
    "# ---------------------- STEP 4: Merge Drug_ID and MoA ---------------------- #\n",
    "\n",
    "# Create mapping from integer ID to DrugBank ID using drugs.csv\n",
    "drugs_df = pd.read_csv(\"../data/networks/milner_drugbank_postgresql/drugs.csv\", header=None)\n",
    "\n",
    "# Extract relevant columns\n",
    "integer_id_to_drugbank_id = dict(zip(drugs_df.iloc[:, 0], drugs_df.iloc[:, 2]))\n",
    "\n",
    "# Merge MoA into each top_percent_drugs_*_drugbank dataframe\n",
    "def add_moa_column(df):\n",
    "    \"\"\"Add mechanism of action (MoA) column and DrugBank IDs\"\"\"\n",
    "    df = df.copy()\n",
    "\n",
    "    # Step 1: Map drug name to Drug_ID\n",
    "    df[\"Integer_ID\"] = df[\"drug\"].map(drug_name_to_id)\n",
    "\n",
    "    # Step 2: Convert integer ID to actual DrugBank ID\n",
    "    df[\"Drug_ID\"] = df[\"Integer_ID\"].map(integer_id_to_drugbank_id)\n",
    "\n",
    "    # Step 3: Merge with pharmacologies_moa on integrer ID (since pharmacologies.csv uses integer IDs)\n",
    "    df = df.merge(pharmacologies_moa_clean, left_on=\"Integer_ID\", right_on=\"Drug_ID\", how=\"left\", suffixes=('', '_pharm'))\n",
    "\n",
    "    # Step 4: clean up – keep the DrugBank ID and drop the integer ID columns\n",
    "    df = df.drop(columns=[\"Integer_ID\", \"Drug_ID_pharm\"])\n",
    "\n",
    "    return df\n",
    "\n",
    "# Apply to each dataframe\n",
    "top_percent_drugs_step1_drugbank_moa = add_moa_column(top_percent_drugs_step1_drugbank.copy())\n",
    "top_percent_drugs_step2_drugbank_moa = add_moa_column(top_percent_drugs_step2_drugbank.copy())\n",
    "top_percent_drugs_step3_drugbank_moa = add_moa_column(top_percent_drugs_step3_drugbank.copy())\n",
    "\n",
    "# ---------------------- STEP 5: Confirm MoA coverage ---------------------- #\n",
    "\n",
    "print(\"Step 1 MoA matches:\", top_percent_drugs_step1_drugbank_moa[\"MoA\"].notna().sum(), \"/\", len(top_percent_drugs_step1_drugbank_moa))\n",
    "print(\"Step 2 MoA matches:\", top_percent_drugs_step2_drugbank_moa[\"MoA\"].notna().sum(), \"/\", len(top_percent_drugs_step2_drugbank_moa))\n",
    "print(\"Step 3 MoA matches:\", top_percent_drugs_step3_drugbank_moa[\"MoA\"].notna().sum(), \"/\", len(top_percent_drugs_step3_drugbank_moa))"
   ]
  },
  {
   "cell_type": "markdown",
   "id": "f16922a6",
   "metadata": {},
   "source": [
    "### For drugs from ChEMBL, get the MoA"
   ]
  },
  {
   "cell_type": "code",
   "execution_count": 160,
   "id": "c805b766",
   "metadata": {},
   "outputs": [
    {
     "name": "stderr",
     "output_type": "stream",
     "text": [
      "100%|██████████| 201/201 [00:16<00:00, 12.17it/s]\n",
      "100%|██████████| 249/249 [00:20<00:00, 12.44it/s]\n",
      "100%|██████████| 214/214 [00:17<00:00, 12.22it/s]"
     ]
    },
    {
     "name": "stdout",
     "output_type": "stream",
     "text": [
      "                         drug  distance    z_score  Source compound_chembl_id  \\\n",
      "0             florbetaben f18  0.000000 -28.523016  ChEMBL       CHEMBL566752   \n",
      "1  pioglitazone hydrochloride  0.500000 -20.175329  ChEMBL         CHEMBL1715   \n",
      "2       rosiglitazone maleate  0.666667 -17.392767  ChEMBL          CHEMBL843   \n",
      "3     memantine hydrochloride  1.000000 -11.827642  ChEMBL         CHEMBL1699   \n",
      "4              metaproterenol  1.000000 -11.827642  ChEMBL          CHEMBL776   \n",
      "\n",
      "                                                 MoA  \n",
      "0                                   Diagnostic agent  \n",
      "1  Peroxisome proliferator-activated receptor gam...  \n",
      "2  Peroxisome proliferator-activated receptor gam...  \n",
      "3  Glutamate [NMDA] receptor negative allosteric ...  \n",
      "4                                               None  \n"
     ]
    },
    {
     "name": "stderr",
     "output_type": "stream",
     "text": [
      "\n"
     ]
    }
   ],
   "source": [
    "# Extract drugs in top 10% that are from ChEMBL\n",
    "top_percent_drugs_step1_chembl = top_percent_drugs_step1[top_percent_drugs_step1[\"Source\"] == \"ChEMBL\"]\n",
    "top_percent_drugs_step2_chembl = top_percent_drugs_step2[top_percent_drugs_step2[\"Source\"] == \"ChEMBL\"]\n",
    "top_percent_drugs_step3_chembl = top_percent_drugs_step3[top_percent_drugs_step3[\"Source\"] == \"ChEMBL\"]\n",
    "\n",
    "# Load annotated DPI to get mapping from drug name to ChEMBL ID\n",
    "chembl_dpi_with_meta = pd.read_csv(\"../data/networks/chembl_DPI_with_meta.csv\")\n",
    "# Ensure lowercase for matching\n",
    "chembl_dpi_with_meta['compound_name'] = chembl_dpi_with_meta['compound_name'].str.lower()\n",
    "# print(chembl_dpi_with_meta.head())\n",
    "\n",
    "# Map from compound name to compound ChEMBL ID\n",
    "compound_map = chembl_dpi_with_meta[['compound_name', 'compound_chembl_id']].drop_duplicates('compound_name', keep='first')\n",
    "\n",
    "def add_moa_column(df, compound_map):\n",
    "    \"\"\"Add mechanism of action (MoA) column\"\"\"\n",
    "    # Merge to get ChEMBL IDs\n",
    "    df = df.merge(compound_map, left_on='drug', right_on='compound_name', how='left')\n",
    "\n",
    "    # Query ChEMBL for unique compound_chembl_ids\n",
    "    moa_data = []\n",
    "    for chembl_id in tqdm(df['compound_chembl_id'].dropna().unique()):\n",
    "        url = f\"https://www.ebi.ac.uk/chembl/api/data/mechanism.json?molecule_chembl_id={chembl_id}\"\n",
    "        response = requests.get(url)\n",
    "        if response.status_code == 200:\n",
    "            json_data = response.json()\n",
    "            mechanisms = json_data.get('mechanisms', [])\n",
    "            moa_list = [mech.get('mechanism_of_action') for mech in mechanisms if mech.get('mechanism_of_action')]\n",
    "            moa_str = '; '.join(moa_list) if moa_list else None\n",
    "            moa_data.append({'compound_chembl_id': chembl_id, 'MoA': moa_str})\n",
    "    \n",
    "    moa_df = pd.DataFrame(moa_data)\n",
    "    df = df.merge(moa_df, on='compound_chembl_id', how='left')\n",
    "\n",
    "    # Drop helper column\n",
    "    return df.drop(columns=['compound_name'])\n",
    "\n",
    "# Run the function for each step\n",
    "top_percent_drugs_step1_chembl_moa = add_moa_column(top_percent_drugs_step1_chembl.copy(), compound_map)\n",
    "top_percent_drugs_step2_chembl_moa = add_moa_column(top_percent_drugs_step2_chembl.copy(), compound_map)\n",
    "top_percent_drugs_step3_chembl_moa = add_moa_column(top_percent_drugs_step3_chembl.copy(), compound_map)\n",
    "\n",
    "print(top_percent_drugs_step1_chembl_moa.head())\n"
   ]
  },
  {
   "cell_type": "code",
   "execution_count": 171,
   "id": "b17e79de",
   "metadata": {},
   "outputs": [
    {
     "name": "stdout",
     "output_type": "stream",
     "text": [
      "Before MoA annotation:\n",
      "Step 1 drugs: 641\n",
      "Step 2 drugs: 779\n",
      "Step 3 drugs: 636\n",
      "\n",
      "After DrugBank MoA annotation:\n",
      "Step 1 DrugBank: 440\n",
      "Step 2 DrugBank: 530\n",
      "Step 3 DrugBank: 422\n",
      "\n",
      "After ChEMBL MoA annotation:\n",
      "Step 1 ChEMBL: 201\n",
      "Step 2 ChEMBL: 249\n",
      "Step 3 ChEMBL: 214\n"
     ]
    }
   ],
   "source": [
    "# Double checking that the numbers add up\n",
    "print(\"Before MoA annotation:\")\n",
    "print(f\"Step 1 drugs: {len(top_percent_drugs_step1)}\")\n",
    "print(f\"Step 2 drugs: {len(top_percent_drugs_step2)}\")\n",
    "print(f\"Step 3 drugs: {len(top_percent_drugs_step3)}\")\n",
    "\n",
    "print(\"\\nAfter DrugBank MoA annotation:\")\n",
    "print(f\"Step 1 DrugBank: {len(top_percent_drugs_step1_drugbank_moa)}\")\n",
    "print(f\"Step 2 DrugBank: {len(top_percent_drugs_step2_drugbank_moa)}\")\n",
    "print(f\"Step 3 DrugBank: {len(top_percent_drugs_step3_drugbank_moa)}\")\n",
    "\n",
    "print(\"\\nAfter ChEMBL MoA annotation:\")\n",
    "print(f\"Step 1 ChEMBL: {len(top_percent_drugs_step1_chembl_moa)}\")\n",
    "print(f\"Step 2 ChEMBL: {len(top_percent_drugs_step2_chembl_moa)}\")\n",
    "print(f\"Step 3 ChEMBL: {len(top_percent_drugs_step3_chembl_moa)}\")"
   ]
  },
  {
   "cell_type": "markdown",
   "id": "94fddb46",
   "metadata": {},
   "source": [
    "### Merge DrugBank and ChEMBL together after adding MoA column"
   ]
  },
  {
   "cell_type": "code",
   "execution_count": 175,
   "id": "65331f14",
   "metadata": {},
   "outputs": [
    {
     "name": "stdout",
     "output_type": "stream",
     "text": [
      "Step 1 merged: 641 total drugs (440 DrugBank + 201 ChEMBL)\n",
      "Step 2 merged: 779 total drugs (530 DrugBank + 249 ChEMBL)\n",
      "Step 3 merged: 636 total drugs (422 DrugBank + 214 ChEMBL)\n"
     ]
    }
   ],
   "source": [
    "def standardise_columns(df, source_type):\n",
    "    \"\"\"Standardise column structure for merging\"\"\"\n",
    "    # Keep only essential columns\n",
    "    essential_cols = ['drug', 'distance', 'z_score', 'Source', 'MoA']\n",
    "    \n",
    "    # Create a copy to work with\n",
    "    df_clean = df[essential_cols].copy()\n",
    "\n",
    "    # Add Drug_ID column\n",
    "    if source_type == 'drugbank' and 'Drug_ID' in df.columns:\n",
    "        df_clean['Drug_ID'] = df['Drug_ID']\n",
    "    elif source_type == 'chembl' and 'compound_chembl_id' in df.columns:\n",
    "        df_clean['Drug_ID'] = df['compound_chembl_id']\n",
    "    else:\n",
    "        # If no ID column found, set to None\n",
    "        df_clean['Drug_ID'] = None\n",
    "        print(f\"Warning: No ID column found for {source_type} data\")\n",
    "\n",
    "    # Rename columns\n",
    "    df_clean = df_clean.rename(columns={\n",
    "        'drug': 'Drug',\n",
    "        'distance': 'Distance', \n",
    "        'z_score': 'z_score',\n",
    "        'MoA': 'MoA',\n",
    "        'Source': 'Source'\n",
    "    })\n",
    "\n",
    "    # Reorder columns\n",
    "    df_clean = df_clean[['Drug', 'Distance', 'z_score', 'MoA', 'Source', 'Drug_ID']]\n",
    "    \n",
    "    return df_clean\n",
    "\n",
    "def merge_step_data(drugbank_df, chembl_df, step_name):\n",
    "    \"\"\"Merge DrugBank and ChEMBL data for a single step\"\"\"\n",
    "    \n",
    "    # Standardise columns\n",
    "    drugbank_clean = standardise_columns(drugbank_df, 'drugbank')\n",
    "    chembl_clean = standardise_columns(chembl_df, 'chembl')\n",
    "    \n",
    "    # Verify no overlap\n",
    "    overlap = set(drugbank_clean['Drug']).intersection(set(chembl_clean['Drug']))\n",
    "    if overlap:\n",
    "        print(f\"WARNING - {step_name}: Found {len(overlap)} overlapping drugs\")\n",
    "        print(f\"Overlapping drugs: {list(overlap)[:5]}...\")  # Show first 5\n",
    "    \n",
    "    # Concatenate\n",
    "    merged = pd.concat([drugbank_clean, chembl_clean], ignore_index=True)\n",
    "    \n",
    "    # Sort by z_score (most significant first)\n",
    "    merged = merged.sort_values('z_score', ascending=True)\n",
    "    \n",
    "    print(f\"{step_name} merged: {len(merged)} total drugs ({len(drugbank_clean)} DrugBank + {len(chembl_clean)} ChEMBL)\")\n",
    "    \n",
    "    return merged\n",
    "\n",
    "# Merge each step\n",
    "step1_merged = merge_step_data(top_percent_drugs_step1_drugbank_moa, \n",
    "                              top_percent_drugs_step1_chembl_moa, \"Step 1\")\n",
    "step2_merged = merge_step_data(top_percent_drugs_step2_drugbank_moa, \n",
    "                              top_percent_drugs_step2_chembl_moa, \"Step 2\")\n",
    "step3_merged = merge_step_data(top_percent_drugs_step3_drugbank_moa, \n",
    "                              top_percent_drugs_step3_chembl_moa, \"Step 3\")\n",
    "\n",
    "step1_merged.to_csv(\"../results/humanPVATsn/network_analysis/proximity_significant_drugs/significant_drugs_whole_1000_step1_moa.csv\", index=False)\n",
    "step2_merged.to_csv(\"../results/humanPVATsn/network_analysis/proximity_significant_drugs/significant_drugs_whole_1000_step2_moa.csv\", index=False)\n",
    "step3_merged.to_csv(\"../results/humanPVATsn/network_analysis/proximity_significant_drugs/significant_drugs_whole_1000_step3_moa.csv\", index=False)\n"
   ]
  }
 ],
 "metadata": {
  "kernelspec": {
   "display_name": "bat_proximity_analysis",
   "language": "python",
   "name": "python3"
  },
  "language_info": {
   "codemirror_mode": {
    "name": "ipython",
    "version": 3
   },
   "file_extension": ".py",
   "mimetype": "text/x-python",
   "name": "python",
   "nbconvert_exporter": "python",
   "pygments_lexer": "ipython3",
   "version": "3.9.12"
  }
 },
 "nbformat": 4,
 "nbformat_minor": 5
}
