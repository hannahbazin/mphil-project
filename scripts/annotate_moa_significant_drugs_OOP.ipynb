{
 "cells": [
  {
   "cell_type": "markdown",
   "id": "4818be3f",
   "metadata": {},
   "source": [
    "# Identifying mechanism of action (MoA) of the top significant drugs after drug proximity analysis\n",
    "\n",
    "After running drug proximity analysis, the top prioritised significant drugs will have their MoA recovered and this will guide the decision for wet lab validation. You can decide what percentage of the drugs you want to get the MoA for with the \"top_percent\" variable.\n",
    "\n",
    "This is the **object-oriented programming (OOP)** approach which works better in this case."
   ]
  },
  {
   "cell_type": "code",
   "execution_count": 1,
   "id": "d57a3afd",
   "metadata": {},
   "outputs": [],
   "source": [
    "import pandas as pd\n",
    "import csv\n",
    "import requests\n",
    "from tqdm import tqdm\n",
    "\n",
    "class MoAAnnotator:\n",
    "    \"\"\"\n",
    "    Class to annotate significant drugs with mechanism of action (MoA) data.\n",
    "    \"\"\"\n",
    "\n",
    "    def __init__(self, data_dir=\"../data/networks\", postgres_dir=\"../data/networks/milner_drugbank_postgresql\"):\n",
    "        \"\"\"\n",
    "        Initalise the MoA annotator with data directories.\n",
    "\n",
    "        Args:\n",
    "            data_dir: Directory containing network data files\n",
    "            postgres_dir: Directory containing DrugBank PostgreSQL files\n",
    "        \"\"\"\n",
    "        self.data_dir = data_dir\n",
    "        self.postgres_dir = postgres_dir\n",
    "\n",
    "        # Load reference data\n",
    "        self._load_reference_data()\n",
    "    \n",
    "    def _load_reference_data(self):\n",
    "        \"\"\"Load all reference datasets needed for MoA annotation.\"\"\"\n",
    "        # Load drug source mapping\n",
    "        combined_dpi_with_source = pd.read_csv(f\"{self.data_dir}/combined_DPI_with_source.csv\")\n",
    "        self.drug_to_source_map = self._create_drug_source_mapping(combined_dpi_with_source)\n",
    "\n",
    "        # Load DrugBank reference data\n",
    "        self._load_drugbank_data()\n",
    "\n",
    "        # Load ChEMBL reference data\n",
    "        self._load_chembl_data()\n",
    "    \n",
    "    def _create_drug_source_mapping(self, combined_dpi_with_source):\n",
    "        \"\"\"Build a mapping from drug name to source(s)\"\"\"\n",
    "        def determine_source(sources):\n",
    "            sources_set = set(sources)\n",
    "            if sources_set == {\"ChEMBL\"}:\n",
    "                return \"ChEMBL\"\n",
    "            elif sources_set == {\"DrugBank\"}:\n",
    "                return \"DrugBank\"\n",
    "            else:\n",
    "                return \"Both\"\n",
    "\n",
    "        return (\n",
    "            combined_dpi_with_source\n",
    "            .groupby(\"Drug_Name\")[\"Source\"]\n",
    "            .apply(determine_source)\n",
    "            .to_dict()\n",
    "        )\n",
    "    \n",
    "    def _load_drugbank_data(self):\n",
    "        \"\"\"Load DrugBank reference data\"\"\"\n",
    "        # Load DrugBank DPI with DrugBank IDs\n",
    "        drugbank_dpi_with_id = pd.read_csv(f\"{self.data_dir}/drugbank_DPI_with_ID.csv\")\n",
    "        drugbank_dpi_with_id[\"Drug_Name\"] = drugbank_dpi_with_id[\"Drug_Name\"].str.lower()\n",
    "        drugbank_dpi_with_id[\"Drug_ID\"] = drugbank_dpi_with_id[\"Drug_ID\"].astype(int)\n",
    "\n",
    "        # Map Drug_Name -> Drug_ID using drugbank_dpi_with_id\n",
    "        self.drug_name_to_id_drugbank = (\n",
    "            drugbank_dpi_with_id\n",
    "            .drop_duplicates(\"Drug_Name\")\n",
    "            .set_index(\"Drug_Name\")[\"Drug_ID\"]\n",
    "            .to_dict()\n",
    "        )\n",
    "\n",
    "        # Load and clean pharmacologies.csv\n",
    "        moa_data = []\n",
    "        with open(f\"{self.postgres_dir}/pharmacologies.csv\", \"r\", encoding=\"utf-8\") as f:\n",
    "            reader = csv.reader(f)\n",
    "            for row in reader:\n",
    "                if len(row) >= 5:\n",
    "                    try:\n",
    "                        moa_data.append((int(row[1]), row[4]))  # drug_id, mechanism_of_action\n",
    "                    except ValueError:\n",
    "                        continue  # skip malformed rows\n",
    "\n",
    "        self.pharmacologies_moa_clean = pd.DataFrame(moa_data, columns=[\"Drug_ID\", \"MoA\"])\n",
    "\n",
    "        # Create mapping from integer ID to DrugBank ID using drugs.csv\n",
    "        drugs_df = pd.read_csv(f\"{self.postgres_dir}/drugs.csv\", header=None)\n",
    "        # Extract relevant columns\n",
    "        self.integer_id_to_drugbank_id_map = dict(zip(drugs_df.iloc[:, 0], drugs_df.iloc[:, 2]))\n",
    "\n",
    "    def _load_chembl_data(self):\n",
    "        \"\"\"Load ChEMBL reference data\"\"\"\n",
    "        # Load annotated DPI to get mapping from drug name to ChEMBL ID, ensure lowercase for matching\n",
    "        chembl_dpi_with_meta = pd.read_csv(f\"{self.data_dir}/chembl_DPI_with_meta.csv\")\n",
    "        chembl_dpi_with_meta['compound_name'] = chembl_dpi_with_meta['compound_name'].str.lower()\n",
    "        self.drug_name_to_chembl_id_map = chembl_dpi_with_meta[['compound_name', 'compound_chembl_id']].drop_duplicates('compound_name', keep='first')\n",
    "\n",
    "    def get_top_percent_drugs(self, significant_drugs_df, top_percent):\n",
    "        \"\"\"Extract top percentage of significant drugs\"\"\"\n",
    "        top_percent_count = round(top_percent * len(significant_drugs_df))\n",
    "        return significant_drugs_df.head(top_percent_count).copy()\n",
    "\n",
    "    def add_source_info(self, df):\n",
    "        \"\"\"Add source info to dataframe\"\"\"\n",
    "        df[\"Source\"] = df[\"drug\"].map(self.drug_to_source_map)\n",
    "        return df\n",
    "    \n",
    "    def separate_by_source(self, df):\n",
    "        \"\"\"Separate drugs by source (DrugBank vs ChEMBL). Drugs in both sources will be classified as DrugBank (clearer MoA definitions).\"\"\"\n",
    "        drugbank_df = df[(df[\"Source\"] == \"DrugBank\") | (df[\"Source\"] == \"Both\")]\n",
    "        chembl_df = df[df[\"Source\"] == \"ChEMBL\"]\n",
    "        return drugbank_df, chembl_df\n",
    "    \n",
    "    def add_drugbank_moa(self, df):\n",
    "        \"\"\"Add mechanism of action (MoA) column and DrugBank IDs\"\"\"\n",
    "        df = df.copy()\n",
    "        # Map drug name to integer drug ID\n",
    "        df[\"Integer_ID\"] = df[\"drug\"].map(self.drug_name_to_id_drugbank)\n",
    "        # Convert integer ID to actual DrugBank ID\n",
    "        df[\"Drug_ID\"] = df[\"Integer_ID\"].map(self.integer_id_to_drugbank_id_map)\n",
    "        # Merge with pharmacologies_moa on integrer ID (since pharmacologies.csv uses integer IDs)\n",
    "        df = df.merge(self.pharmacologies_moa_clean, left_on=\"Integer_ID\", right_on=\"Drug_ID\", how=\"left\", suffixes=('', '_pharm'))\n",
    "        # Clean up: keep the DrugBank ID and drop the integer ID columns\n",
    "        df = df.drop(columns=[\"Integer_ID\", \"Drug_ID_pharm\"])\n",
    "        return df\n",
    "\n",
    "    def add_chembl_moa(self, df):\n",
    "        \"\"\"Add mechanism of action (MoA) column for ChEMBL drugs\"\"\"\n",
    "        # Merge to get ChEMBL IDs\n",
    "        df = df.merge(self.drug_name_to_chembl_id_map, left_on='drug', right_on='compound_name', how='left')\n",
    "        # Query ChEMBL for unique compound_chembl_ids\n",
    "        moa_data = []\n",
    "        for chembl_id in tqdm(df['compound_chembl_id'].dropna().unique()):\n",
    "            url = f\"https://www.ebi.ac.uk/chembl/api/data/mechanism.json?molecule_chembl_id={chembl_id}\"\n",
    "            response = requests.get(url)\n",
    "            if response.status_code == 200:\n",
    "                json_data = response.json()\n",
    "                mechanisms = json_data.get('mechanisms', [])\n",
    "                moa_list = [mech.get('mechanism_of_action') for mech in mechanisms if mech.get('mechanism_of_action')]\n",
    "                moa_str = '; '.join(moa_list) if moa_list else None\n",
    "                moa_data.append({'compound_chembl_id': chembl_id, 'MoA': moa_str})\n",
    "        \n",
    "        moa_df = pd.DataFrame(moa_data)\n",
    "        df = df.merge(moa_df, on='compound_chembl_id', how='left')\n",
    "\n",
    "        # Drop helper column\n",
    "        return df.drop(columns=['compound_name'])\n",
    "    \n",
    "    def standardise_columns(self, df, source_type):\n",
    "        \"\"\"Standardise column structure for merging\"\"\"\n",
    "        # Keep only essential columns\n",
    "        essential_cols = ['drug', 'distance', 'z_score', 'Source', 'MoA']\n",
    "        \n",
    "        # Create a copy to work with\n",
    "        df_clean = df[essential_cols].copy()\n",
    "\n",
    "        # Add Drug_ID column\n",
    "        if source_type == 'drugbank' and 'Drug_ID' in df.columns:\n",
    "            df_clean['Drug_ID'] = df['Drug_ID']\n",
    "        elif source_type == 'chembl' and 'compound_chembl_id' in df.columns:\n",
    "            df_clean['Drug_ID'] = df['compound_chembl_id']\n",
    "        else:\n",
    "            # If no ID column found, set to None\n",
    "            df_clean['Drug_ID'] = None\n",
    "            print(f\"Warning: No ID column found for {source_type} data\")\n",
    "\n",
    "        # Rename columns\n",
    "        df_clean = df_clean.rename(columns={\n",
    "            'drug': 'Drug',\n",
    "            'distance': 'Distance', \n",
    "            'z_score': 'z_score',\n",
    "            'MoA': 'MoA',\n",
    "            'Source': 'Source'\n",
    "        })\n",
    "\n",
    "        # Reorder columns\n",
    "        df_clean = df_clean[['Drug', 'Distance', 'z_score', 'MoA', 'Source', 'Drug_ID']]\n",
    "        \n",
    "        return df_clean\n",
    "    \n",
    "    def merge_step_data(self, drugbank_df, chembl_df, step_name):\n",
    "        \"\"\"Merge DrugBank and ChEMBL data for a single step\"\"\"\n",
    "        # Standardise columns\n",
    "        drugbank_clean = self.standardise_columns(drugbank_df, 'drugbank')\n",
    "        chembl_clean = self.standardise_columns(chembl_df, 'chembl')\n",
    "        \n",
    "        # Verify no overlap\n",
    "        overlap = set(drugbank_clean['Drug']).intersection(set(chembl_clean['Drug']))\n",
    "        if overlap:\n",
    "            print(f\"WARNING - {step_name}: Found {len(overlap)} overlapping drugs\")\n",
    "            print(f\"Overlapping drugs: {list(overlap)[:5]}...\")  # Show first 5\n",
    "        \n",
    "        # Concatenate\n",
    "        merged = pd.concat([drugbank_clean, chembl_clean], ignore_index=True)\n",
    "        \n",
    "        # Sort by z_score (most significant first)\n",
    "        merged = merged.sort_values('z_score', ascending=True)\n",
    "        \n",
    "        print(f\"{step_name} merged: {len(merged)} total drugs ({len(drugbank_clean)} DrugBank + {len(chembl_clean)} ChEMBL)\")\n",
    "        \n",
    "        return merged\n",
    "    \n",
    "    def process_significant_drugs(self, significant_drugs_df, top_percent, step_name=\"\"):\n",
    "        \"\"\"\n",
    "        Complete pipeline to process significant drugs and add MoA annotations.\n",
    "\n",
    "        Args:\n",
    "            significant_drugs_df: DataFrame with significant drugs\n",
    "            top_percent: Percentage of top drugs to process (e.g., 0.1 for 10%)\n",
    "            step_name: Name for this step (for printing)\n",
    "        \n",
    "        Returns:\n",
    "            DataFrame with MoA annotations\n",
    "        \"\"\"\n",
    "        # Extract top percentage of significant drugs\n",
    "        top_percent_drugs = self.get_top_percent_drugs(significant_drugs_df, top_percent)\n",
    "\n",
    "        # Add source info\n",
    "        top_percent_drugs = self.add_source_info(top_percent_drugs)\n",
    "\n",
    "        # Separate by source\n",
    "        drugbank_df, chembl_df = self.separate_by_source(top_percent_drugs)\n",
    "\n",
    "        # Process DrugBank drugs\n",
    "        if len(drugbank_df) > 0:\n",
    "            drugbank_moa = self.add_drugbank_moa(drugbank_df.copy())\n",
    "            print(f\"{step_name} DrugBank MoA matches:\", drugbank_moa[\"MoA\"].notna().sum(), \"/\", len(drugbank_moa))\n",
    "        else:\n",
    "            drugbank_moa = pd.DataFrame()\n",
    "        \n",
    "        # Process ChEMBL drugs\n",
    "        if len(chembl_df) > 0:\n",
    "            chembl_moa = self.add_chembl_moa(chembl_df.copy())\n",
    "        else:\n",
    "            chembl_moa = pd.DataFrame()\n",
    "\n",
    "        # Merge results\n",
    "        if len(drugbank_moa) > 0 and len(chembl_moa) > 0:\n",
    "            merged = self.merge_step_data(drugbank_moa, chembl_moa, step_name)\n",
    "        elif len(drugbank_moa) > 0:\n",
    "            merged = self.standardise_columns(drugbank_moa, 'drugbank')\n",
    "        elif len(chembl_moa) > 0:\n",
    "            merged = self.standardise_columns(chembl_moa, 'chembl')\n",
    "        else:\n",
    "            merged = pd.DataFrame()\n",
    "        \n",
    "        return merged"
   ]
  },
  {
   "cell_type": "markdown",
   "id": "efaa079c",
   "metadata": {},
   "source": [
    "## Add MoA for whole gene lists"
   ]
  },
  {
   "cell_type": "code",
   "execution_count": 2,
   "id": "a2d838fd",
   "metadata": {},
   "outputs": [
    {
     "name": "stdout",
     "output_type": "stream",
     "text": [
      "======== ADDING MOA FOR WHOLE GENE LISTS ========\n",
      "Step 1 DrugBank MoA matches: 440 / 440\n"
     ]
    },
    {
     "name": "stderr",
     "output_type": "stream",
     "text": [
      "100%|██████████| 201/201 [00:15<00:00, 13.02it/s]\n"
     ]
    },
    {
     "name": "stdout",
     "output_type": "stream",
     "text": [
      "Step 1 merged: 641 total drugs (440 DrugBank + 201 ChEMBL)\n",
      "Step 2 DrugBank MoA matches: 530 / 530\n"
     ]
    },
    {
     "name": "stderr",
     "output_type": "stream",
     "text": [
      "100%|██████████| 249/249 [00:19<00:00, 13.09it/s]\n"
     ]
    },
    {
     "name": "stdout",
     "output_type": "stream",
     "text": [
      "Step 2 merged: 779 total drugs (530 DrugBank + 249 ChEMBL)\n",
      "Step 3 DrugBank MoA matches: 422 / 422\n"
     ]
    },
    {
     "name": "stderr",
     "output_type": "stream",
     "text": [
      "100%|██████████| 214/214 [00:18<00:00, 11.77it/s]\n"
     ]
    },
    {
     "name": "stdout",
     "output_type": "stream",
     "text": [
      "Step 3 merged: 636 total drugs (422 DrugBank + 214 ChEMBL)\n",
      "Full Diff DrugBank MoA matches: 526 / 526\n"
     ]
    },
    {
     "name": "stderr",
     "output_type": "stream",
     "text": [
      "100%|██████████| 273/273 [00:20<00:00, 13.26it/s]\n"
     ]
    },
    {
     "name": "stdout",
     "output_type": "stream",
     "text": [
      "Full Diff merged: 799 total drugs (526 DrugBank + 273 ChEMBL)\n",
      "======== ADDING MOA FOR KEY GENE LISTS ========\n",
      "Step 1 DrugBank MoA matches: 241 / 241\n"
     ]
    },
    {
     "name": "stderr",
     "output_type": "stream",
     "text": [
      "100%|██████████| 94/94 [00:06<00:00, 14.17it/s]\n"
     ]
    },
    {
     "name": "stdout",
     "output_type": "stream",
     "text": [
      "Step 1 merged: 335 total drugs (241 DrugBank + 94 ChEMBL)\n",
      "Step 2 DrugBank MoA matches: 292 / 292\n"
     ]
    },
    {
     "name": "stderr",
     "output_type": "stream",
     "text": [
      "100%|██████████| 158/158 [00:11<00:00, 13.91it/s]\n"
     ]
    },
    {
     "name": "stdout",
     "output_type": "stream",
     "text": [
      "Step 2 merged: 450 total drugs (292 DrugBank + 158 ChEMBL)\n",
      "Step 3 DrugBank MoA matches: 212 / 212\n"
     ]
    },
    {
     "name": "stderr",
     "output_type": "stream",
     "text": [
      "100%|██████████| 102/102 [00:07<00:00, 14.17it/s]\n"
     ]
    },
    {
     "name": "stdout",
     "output_type": "stream",
     "text": [
      "Step 3 merged: 314 total drugs (212 DrugBank + 102 ChEMBL)\n",
      "Full Diff DrugBank MoA matches: 343 / 343\n"
     ]
    },
    {
     "name": "stderr",
     "output_type": "stream",
     "text": [
      "100%|██████████| 175/175 [00:11<00:00, 14.74it/s]\n"
     ]
    },
    {
     "name": "stdout",
     "output_type": "stream",
     "text": [
      "Full Diff merged: 518 total drugs (343 DrugBank + 175 ChEMBL)\n"
     ]
    }
   ],
   "source": [
    "if __name__ == \"__main__\":\n",
    "    # Initialise the annotator\n",
    "    annotator = MoAAnnotator()\n",
    "\n",
    "    # Set parameters\n",
    "    top_percent = 1.0\n",
    "\n",
    "    print(\"======== ADDING MOA FOR WHOLE GENE LISTS ========\")\n",
    "\n",
    "    # Load and process each step\n",
    "    significant_drugs_whole_1000_step1 = pd.read_csv(\"../results/humanPVATsn/network_analysis/proximity_significant_drugs/significant_drugs_whole_1000_step1.csv\", index_col=0)\n",
    "    significant_drugs_whole_1000_step2 = pd.read_csv(\"../results/humanPVATsn/network_analysis/proximity_significant_drugs/significant_drugs_whole_1000_step2.csv\", index_col=0)\n",
    "    significant_drugs_whole_1000_step3 = pd.read_csv(\"../results/humanPVATsn/network_analysis/proximity_significant_drugs/significant_drugs_whole_1000_step3.csv\", index_col=0)\n",
    "    significant_drugs_whole_1000_full_diff = pd.read_csv(\"../results/humanPVATsn/network_analysis/proximity_significant_drugs/significant_drugs_whole_1000_full_diff.csv\", index_col=0)\n",
    "\n",
    "    # Process each step\n",
    "    step1_merged = annotator.process_significant_drugs(significant_drugs_whole_1000_step1, top_percent, \"Step 1\")\n",
    "    step2_merged = annotator.process_significant_drugs(significant_drugs_whole_1000_step2, top_percent, \"Step 2\")\n",
    "    step3_merged = annotator.process_significant_drugs(significant_drugs_whole_1000_step3, top_percent, \"Step 3\")\n",
    "    full_diff_merged = annotator.process_significant_drugs(significant_drugs_whole_1000_full_diff, top_percent, \"Full Diff\")\n",
    "\n",
    "    # Save results\n",
    "    step1_merged.to_csv(\"../results/humanPVATsn/network_analysis/proximity_significant_drugs/significant_drugs_whole_1000_step1_moa.csv\", index=False)\n",
    "    step2_merged.to_csv(\"../results/humanPVATsn/network_analysis/proximity_significant_drugs/significant_drugs_whole_1000_step2_moa.csv\", index=False)\n",
    "    step3_merged.to_csv(\"../results/humanPVATsn/network_analysis/proximity_significant_drugs/significant_drugs_whole_1000_step3_moa.csv\", index=False)\n",
    "    full_diff_merged.to_csv(\"../results/humanPVATsn/network_analysis/proximity_significant_drugs/significant_drugs_whole_1000_full_diff_moa.csv\", index=False)\n",
    "\n",
    "    print(\"======== ADDING MOA FOR KEY GENE LISTS ========\")\n",
    "\n",
    "    # Load and process each step\n",
    "    significant_drugs_key_1000_step1 = pd.read_csv(\"../results/humanPVATsn/network_analysis/proximity_significant_drugs/significant_drugs_key_1000_step1.csv\", index_col=0)\n",
    "    significant_drugs_key_1000_step2 = pd.read_csv(\"../results/humanPVATsn/network_analysis/proximity_significant_drugs/significant_drugs_key_1000_step2.csv\", index_col=0)\n",
    "    significant_drugs_key_1000_step3 = pd.read_csv(\"../results/humanPVATsn/network_analysis/proximity_significant_drugs/significant_drugs_key_1000_step3.csv\", index_col=0)\n",
    "    significant_drugs_key_1000_full_diff = pd.read_csv(\"../results/humanPVATsn/network_analysis/proximity_significant_drugs/significant_drugs_key_1000_full_diff.csv\", index_col=0)\n",
    "\n",
    "    # Process each step\n",
    "    step1_key_merged = annotator.process_significant_drugs(significant_drugs_key_1000_step1, top_percent, \"Step 1\")\n",
    "    step2_key_merged = annotator.process_significant_drugs(significant_drugs_key_1000_step2, top_percent, \"Step 2\")\n",
    "    step3_key_merged = annotator.process_significant_drugs(significant_drugs_key_1000_step3, top_percent, \"Step 3\")\n",
    "    full_diff_merged = annotator.process_significant_drugs(significant_drugs_key_1000_full_diff, top_percent, \"Full Diff\")\n",
    "\n",
    "    # Save results\n",
    "    step1_key_merged.to_csv(\"../results/humanPVATsn/network_analysis/proximity_significant_drugs/significant_drugs_key_1000_step1_moa.csv\", index=False)\n",
    "    step2_key_merged.to_csv(\"../results/humanPVATsn/network_analysis/proximity_significant_drugs/significant_drugs_key_1000_step2_moa.csv\", index=False)\n",
    "    step3_key_merged.to_csv(\"../results/humanPVATsn/network_analysis/proximity_significant_drugs/significant_drugs_key_1000_step3_moa.csv\", index=False)\n",
    "    full_diff_merged.to_csv(\"../results/humanPVATsn/network_analysis/proximity_significant_drugs/significant_drugs_key_1000_full_diff_moa.csv\", index=False)"
   ]
  }
 ],
 "metadata": {
  "kernelspec": {
   "display_name": "bat_proximity_analysis",
   "language": "python",
   "name": "python3"
  },
  "language_info": {
   "codemirror_mode": {
    "name": "ipython",
    "version": 3
   },
   "file_extension": ".py",
   "mimetype": "text/x-python",
   "name": "python",
   "nbconvert_exporter": "python",
   "pygments_lexer": "ipython3",
   "version": "3.9.12"
  }
 },
 "nbformat": 4,
 "nbformat_minor": 5
}
