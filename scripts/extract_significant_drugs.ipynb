{
 "cells": [
  {
   "cell_type": "markdown",
   "id": "4b30f143",
   "metadata": {},
   "source": [
    "# Extracting significant drugs from a drug proximity analysis result\n",
    "\n",
    "This script extracts significant drugs from the result of a drug proximity analysis."
   ]
  },
  {
   "cell_type": "code",
   "execution_count": 2,
   "id": "fa980ba2",
   "metadata": {},
   "outputs": [],
   "source": [
    "import pandas as pd\n",
    "import scipy"
   ]
  },
  {
   "cell_type": "code",
   "execution_count": 3,
   "id": "07296c99",
   "metadata": {},
   "outputs": [],
   "source": [
    "z_score_thres = scipy.stats.norm.ppf(0.005) # for two-tailed test at 0.01 significance level = -2.576"
   ]
  },
  {
   "cell_type": "markdown",
   "id": "f195c76a",
   "metadata": {},
   "source": [
    "## Function to extract and save significant drugs (0.01 significance)"
   ]
  },
  {
   "cell_type": "code",
   "execution_count": 4,
   "id": "7685af87",
   "metadata": {},
   "outputs": [],
   "source": [
    "def extract_and_save_significant_drugs(step, proximity_result_path, significant_drugs_path):\n",
    "    print(f\"Extracting significant drugs for {step} ...\\n\")\n",
    "    \n",
    "    # Load proximity results\n",
    "    proximity_result = pd.read_csv(proximity_result_path)\n",
    "\n",
    "    # Filter for significant drugs\n",
    "    proximity_result_significant = proximity_result[proximity_result[\"z_score\"] <= z_score_thres]\n",
    "\n",
    "    # Print length before and after filtering\n",
    "    print(f\"Number of total drugs analysed for {step}: {len(proximity_result)}\")\n",
    "    print(f\"Number of significant drugs for {step}: {len(proximity_result_significant)}\")\n",
    "\n",
    "    # Extract significant drugs\n",
    "    # significant_drugs = proximity_result_significant[\"drug\"].str.lower().unique()\n",
    "    \n",
    "    # Sort by ascending z-score and reset index\n",
    "    proximity_result_significant_sorted = (\n",
    "        proximity_result_significant.sort_values(by=\"z_score\", ascending=True)\n",
    "        .reset_index(drop=True)\n",
    "    )\n",
    "    \n",
    "    # Set index starting at 1\n",
    "    proximity_result_significant_sorted.index += 1\n",
    "    \n",
    "    # Save significant drugs to CSV file\n",
    "    proximity_result_significant_df = pd.DataFrame(proximity_result_significant_sorted)\n",
    "    proximity_result_significant_df.to_csv(significant_drugs_path, index=True, header=True)\n",
    "    print(f\"Significant drugs for {step} saved to {significant_drugs_path}\\n\")"
   ]
  },
  {
   "cell_type": "markdown",
   "id": "1505a8b9",
   "metadata": {},
   "source": [
    "## Extract significant drugs for whole gene list (1000 iterations)"
   ]
  },
  {
   "cell_type": "code",
   "execution_count": 10,
   "id": "eac61bb8",
   "metadata": {},
   "outputs": [
    {
     "name": "stdout",
     "output_type": "stream",
     "text": [
      "================== FOR WHOLE GENE LISTS (1000 ITERATIONS) ==================\n",
      "Extracting significant drugs for step 1 of differentiation ...\n",
      "\n",
      "Number of total drugs analysed for step 1 of differentiation: 2244\n",
      "Number of significant drugs for step 1 of differentiation: 641\n",
      "Significant drugs for step 1 of differentiation saved to ../results/humanPVATsn/network_analysis/proximity_significant_drugs/significant_drugs_whole_1000_step1.csv\n",
      "\n",
      "Extracting significant drugs for step 2 of differentiation ...\n",
      "\n",
      "Number of total drugs analysed for step 2 of differentiation: 2244\n",
      "Number of significant drugs for step 2 of differentiation: 779\n",
      "Significant drugs for step 2 of differentiation saved to ../results/humanPVATsn/network_analysis/proximity_significant_drugs/significant_drugs_whole_1000_step2.csv\n",
      "\n",
      "Extracting significant drugs for step 3 of differentiation ...\n",
      "\n",
      "Number of total drugs analysed for step 3 of differentiation: 2244\n",
      "Number of significant drugs for step 3 of differentiation: 636\n",
      "Significant drugs for step 3 of differentiation saved to ../results/humanPVATsn/network_analysis/proximity_significant_drugs/significant_drugs_whole_1000_step3.csv\n",
      "\n",
      "Extracting significant drugs for full differentiation ...\n",
      "\n",
      "Number of total drugs analysed for full differentiation: 2244\n",
      "Number of significant drugs for full differentiation: 799\n",
      "Significant drugs for full differentiation saved to ../results/humanPVATsn/network_analysis/proximity_significant_drugs/significant_drugs_whole_1000_full_diff.csv\n",
      "\n"
     ]
    }
   ],
   "source": [
    "print(\"================== FOR WHOLE GENE LISTS (1000 ITERATIONS) ==================\")\n",
    "\n",
    "# Define proximity result file reading paths and significant drugs output paths\n",
    "steps = {\n",
    "    \"step 1 of differentiation\": {\n",
    "       \"proximity_result_path\": \"../results/humanPVATsn/network_analysis/proximity_step1.csv\",\n",
    "       \"significant_drugs_path\": \"../results/humanPVATsn/network_analysis/proximity_significant_drugs/significant_drugs_whole_1000_step1.csv\"\n",
    "    },\n",
    "    \"step 2 of differentiation\": {\n",
    "        \"proximity_result_path\": \"../results/humanPVATsn/network_analysis/proximity_step2.csv\",\n",
    "        \"significant_drugs_path\": \"../results/humanPVATsn/network_analysis/proximity_significant_drugs/significant_drugs_whole_1000_step2.csv\"\n",
    "    },\n",
    "    \"step 3 of differentiation\": {\n",
    "       \"proximity_result_path\": \"../results/humanPVATsn/network_analysis/proximity_step3.csv\",\n",
    "        \"significant_drugs_path\": \"../results/humanPVATsn/network_analysis/proximity_significant_drugs/significant_drugs_whole_1000_step3.csv\"\n",
    "    },\n",
    "    \"full differentiation\": {\n",
    "       \"proximity_result_path\": \"../results/humanPVATsn/network_analysis/proximity_full.csv\",\n",
    "       \"significant_drugs_path\": \"../results/humanPVATsn/network_analysis/proximity_significant_drugs/significant_drugs_whole_1000_full_diff.csv\"\n",
    "    }\n",
    "}\n",
    "\n",
    "# Extract and save significant drugs for each step\n",
    "for step, paths in steps.items():\n",
    "    extract_and_save_significant_drugs(step=step,\n",
    "                                       proximity_result_path=paths[\"proximity_result_path\"],\n",
    "                                       significant_drugs_path=paths[\"significant_drugs_path\"])"
   ]
  },
  {
   "cell_type": "markdown",
   "id": "082ae5e4",
   "metadata": {},
   "source": [
    "## Extract significant drugs for key gene list (100 iterations)"
   ]
  },
  {
   "cell_type": "code",
   "execution_count": null,
   "id": "5262928e",
   "metadata": {},
   "outputs": [
    {
     "name": "stdout",
     "output_type": "stream",
     "text": [
      "================== FOR KEY GENE LISTS ONLY (100 ITERATIONS) ==================\n",
      "Extracting significant drugs for step 1 of differentiation ...\n",
      "\n",
      "Number of total drugs analysed for step 1 of differentiation: 2244\n",
      "Number of significant drugs for step 1 of differentiation: 322\n",
      "Significant drugs for step 1 of differentiation saved to ../results/humanPVATsn/network_analysis/proximity_significant_drugs/significant_drugs_key_100_step1.csv\n",
      "\n",
      "Extracting significant drugs for step 2 of differentiation ...\n",
      "\n",
      "Number of total drugs analysed for step 2 of differentiation: 2244\n",
      "Number of significant drugs for step 2 of differentiation: 423\n",
      "Significant drugs for step 2 of differentiation saved to ../results/humanPVATsn/network_analysis/proximity_significant_drugs/significant_drugs_key_100_step2.csv\n",
      "\n",
      "Extracting significant drugs for step 3 of differentiation ...\n",
      "\n",
      "Number of total drugs analysed for step 3 of differentiation: 2244\n",
      "Number of significant drugs for step 3 of differentiation: 320\n",
      "Significant drugs for step 3 of differentiation saved to ../results/humanPVATsn/network_analysis/proximity_significant_drugs/significant_drugs_key_100_step3.csv\n",
      "\n",
      "Extracting significant drugs for full differentiation ...\n",
      "\n",
      "Number of total drugs analysed for full differentiation: 2244\n",
      "Number of significant drugs for full differentiation: 514\n",
      "Significant drugs for full differentiation saved to ../results/humanPVATsn/network_analysis/proximity_significant_drugs/significant_drugs_key_100_full_diff.csv\n",
      "\n"
     ]
    }
   ],
   "source": [
    "print(\"================== FOR KEY GENE LISTS ONLY (100 ITERATIONS) ==================\")\n",
    "\n",
    "# Define proximity result file reading paths and significant drugs output paths\n",
    "steps = {\n",
    "    \"step 1 of differentiation\": {\n",
    "       \"proximity_result_path\": \"../results/humanPVATsn/network_analysis/proximity_step1_key_only.csv\",\n",
    "       \"significant_drugs_path\": \"../results/humanPVATsn/network_analysis/proximity_significant_drugs/significant_drugs_key_100_step1.csv\"\n",
    "    },\n",
    "    \"step 2 of differentiation\": {\n",
    "        \"proximity_result_path\": \"../results/humanPVATsn/network_analysis/proximity_step2_key_only.csv\",\n",
    "        \"significant_drugs_path\": \"../results/humanPVATsn/network_analysis/proximity_significant_drugs/significant_drugs_key_100_step2.csv\"\n",
    "     },\n",
    "    \"step 3 of differentiation\": {\n",
    "       \"proximity_result_path\": \"../results/humanPVATsn/network_analysis/proximity_step3_key_only.csv\",\n",
    "        \"significant_drugs_path\": \"../results/humanPVATsn/network_analysis/proximity_significant_drugs/significant_drugs_key_100_step3.csv\"\n",
    "    },\n",
    "     \"full differentiation\": {\n",
    "        \"proximity_result_path\": \"../results/humanPVATsn/network_analysis/proximity_full_key_only.csv\",\n",
    "        \"significant_drugs_path\": \"../results/humanPVATsn/network_analysis/proximity_significant_drugs/significant_drugs_key_100_full_diff.csv\"\n",
    "    }\n",
    "}\n",
    "\n",
    "# Extract and save significant drugs for each step\n",
    "for step, paths in steps.items():\n",
    "    extract_and_save_significant_drugs(step=step,\n",
    "                                       proximity_result_path=paths[\"proximity_result_path\"],\n",
    "                                       significant_drugs_path=paths[\"significant_drugs_path\"])"
   ]
  },
  {
   "cell_type": "markdown",
   "id": "594a72aa",
   "metadata": {},
   "source": [
    "## Extract significant drugs for key gene list (1000 iterations)"
   ]
  },
  {
   "cell_type": "code",
   "execution_count": 5,
   "id": "8e49048d",
   "metadata": {},
   "outputs": [
    {
     "name": "stdout",
     "output_type": "stream",
     "text": [
      "================== FOR KEY GENE LISTS ONLY (1000 ITERATIONS) ==================\n",
      "Extracting significant drugs for step 1 of differentiation ...\n",
      "\n",
      "Number of total drugs analysed for step 1 of differentiation: 2244\n",
      "Number of significant drugs for step 1 of differentiation: 335\n",
      "Significant drugs for step 1 of differentiation saved to ../results/humanPVATsn/network_analysis/proximity_significant_drugs/significant_drugs_key_1000_step1.csv\n",
      "\n",
      "Extracting significant drugs for step 2 of differentiation ...\n",
      "\n",
      "Number of total drugs analysed for step 2 of differentiation: 2244\n",
      "Number of significant drugs for step 2 of differentiation: 450\n",
      "Significant drugs for step 2 of differentiation saved to ../results/humanPVATsn/network_analysis/proximity_significant_drugs/significant_drugs_key_1000_step2.csv\n",
      "\n",
      "Extracting significant drugs for step 3 of differentiation ...\n",
      "\n",
      "Number of total drugs analysed for step 3 of differentiation: 2244\n",
      "Number of significant drugs for step 3 of differentiation: 314\n",
      "Significant drugs for step 3 of differentiation saved to ../results/humanPVATsn/network_analysis/proximity_significant_drugs/significant_drugs_key_1000_step3.csv\n",
      "\n",
      "Extracting significant drugs for full differentiation ...\n",
      "\n",
      "Number of total drugs analysed for full differentiation: 2244\n",
      "Number of significant drugs for full differentiation: 518\n",
      "Significant drugs for full differentiation saved to ../results/humanPVATsn/network_analysis/proximity_significant_drugs/significant_drugs_key_1000_full_diff.csv\n",
      "\n"
     ]
    }
   ],
   "source": [
    "print(\"================== FOR KEY GENE LISTS ONLY (1000 ITERATIONS) ==================\")\n",
    "\n",
    "# Define proximity result file reading paths and significant drugs output paths\n",
    "steps = {\n",
    "    \"step 1 of differentiation\": {\n",
    "       \"proximity_result_path\": \"../results/humanPVATsn/network_analysis/proximity_step1_key_only_1000_iterations.csv\",\n",
    "       \"significant_drugs_path\": \"../results/humanPVATsn/network_analysis/proximity_significant_drugs/significant_drugs_key_1000_step1.csv\"\n",
    "    },\n",
    "    \"step 2 of differentiation\": {\n",
    "        \"proximity_result_path\": \"../results/humanPVATsn/network_analysis/proximity_step2_key_only_1000_iterations.csv\",\n",
    "        \"significant_drugs_path\": \"../results/humanPVATsn/network_analysis/proximity_significant_drugs/significant_drugs_key_1000_step2.csv\"\n",
    "    },\n",
    "    \"step 3 of differentiation\": {\n",
    "       \"proximity_result_path\": \"../results/humanPVATsn/network_analysis/proximity_step3_key_only_1000_iterations.csv\",\n",
    "        \"significant_drugs_path\": \"../results/humanPVATsn/network_analysis/proximity_significant_drugs/significant_drugs_key_1000_step3.csv\"\n",
    "    },\n",
    "    \"full differentiation\": {\n",
    "       \"proximity_result_path\": \"../results/humanPVATsn/network_analysis/proximity_full_key_only_1000_iterations.csv\",\n",
    "       \"significant_drugs_path\": \"../results/humanPVATsn/network_analysis/proximity_significant_drugs/significant_drugs_key_1000_full_diff.csv\"\n",
    "    }\n",
    "}\n",
    "\n",
    "# Extract and save significant drugs for each step\n",
    "for step, paths in steps.items():\n",
    "    extract_and_save_significant_drugs(step=step,\n",
    "                                       proximity_result_path=paths[\"proximity_result_path\"],\n",
    "                                       significant_drugs_path=paths[\"significant_drugs_path\"])"
   ]
  },
  {
   "cell_type": "code",
   "execution_count": null,
   "id": "7a447123",
   "metadata": {},
   "outputs": [],
   "source": []
  },
  {
   "cell_type": "code",
   "execution_count": null,
   "id": "0e03b096",
   "metadata": {},
   "outputs": [],
   "source": []
  }
 ],
 "metadata": {
  "kernelspec": {
   "display_name": "bat_proximity_analysis",
   "language": "python",
   "name": "python3"
  },
  "language_info": {
   "codemirror_mode": {
    "name": "ipython",
    "version": 3
   },
   "file_extension": ".py",
   "mimetype": "text/x-python",
   "name": "python",
   "nbconvert_exporter": "python",
   "pygments_lexer": "ipython3",
   "version": "3.9.12"
  }
 },
 "nbformat": 4,
 "nbformat_minor": 5
}
