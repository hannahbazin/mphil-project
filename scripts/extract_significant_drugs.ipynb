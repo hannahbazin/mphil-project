{
 "cells": [
  {
   "cell_type": "markdown",
   "id": "4b30f143",
   "metadata": {},
   "source": [
    "# Extracting significant drugs from a drug proximity analysis result\n",
    "\n",
    "This script extracts significant drugs from the result of a drug proximity analysis."
   ]
  },
  {
   "cell_type": "code",
   "execution_count": 5,
   "id": "fa980ba2",
   "metadata": {},
   "outputs": [],
   "source": [
    "import pandas as pd\n",
    "import scipy"
   ]
  },
  {
   "cell_type": "code",
   "execution_count": 8,
   "id": "07296c99",
   "metadata": {},
   "outputs": [],
   "source": [
    "z_score_thres = scipy.stats.norm.ppf(0.005) # for two-tailed test at 0.01 significance level = -2.576"
   ]
  },
  {
   "cell_type": "markdown",
   "id": "f195c76a",
   "metadata": {},
   "source": [
    "## Step 1 of differentiation"
   ]
  },
  {
   "cell_type": "code",
   "execution_count": 9,
   "id": "7685af87",
   "metadata": {},
   "outputs": [
    {
     "name": "stdout",
     "output_type": "stream",
     "text": [
      "Number of total drugs analysed for step 1 of differentiation: 2244\n",
      "Number of significant drugs for step 1 of differentiation 641\n",
      "Significant drugs for step 1 saved to ../results/humanPVATsn/network_analysis/proximity_significant_drugs/significant_drugs_step1.csv\n"
     ]
    }
   ],
   "source": [
    "# Load proximity results and filter for significant drugs\n",
    "proximity_step1 = pd.read_csv(\"../results/humanPVATsn/network_analysis/proximity_step1.csv\")\n",
    "proximity_step1_significant = proximity_step1[proximity_step1[\"z_score\"] <= z_score_thres]\n",
    "\n",
    "# Print length before and after filtering for significance\n",
    "print(\"Number of total drugs analysed for step 1 of differentiation:\", len(proximity_step1))\n",
    "print(\"Number of significant drugs for step 1 of differentiation\", len(proximity_step1_significant))\n",
    "\n",
    "# Extract significant drugs\n",
    "significant_drugs_step1 = proximity_step1_significant[\"drug\"].str.lower().unique()\n",
    "\n",
    "# Save significant drugs to CSV file\n",
    "step1_significant_drugs_path = \"../results/humanPVATsn/network_analysis/proximity_significant_drugs/significant_drugs_step1.csv\"\n",
    "significant_drugs_step1_df = pd.DataFrame(significant_drugs_step1, columns=[\"drug\"])\n",
    "significant_drugs_step1_df.to_csv(step1_significant_drugs_path, index=False, header=False)\n",
    "print(\"Significant drugs for step 1 saved to\", step1_significant_drugs_path)"
   ]
  },
  {
   "cell_type": "code",
   "execution_count": null,
   "id": "d2a21c81",
   "metadata": {},
   "outputs": [],
   "source": []
  }
 ],
 "metadata": {
  "kernelspec": {
   "display_name": "bat_proximity_analysis",
   "language": "python",
   "name": "python3"
  },
  "language_info": {
   "codemirror_mode": {
    "name": "ipython",
    "version": 3
   },
   "file_extension": ".py",
   "mimetype": "text/x-python",
   "name": "python",
   "nbconvert_exporter": "python",
   "pygments_lexer": "ipython3",
   "version": "3.9.12"
  }
 },
 "nbformat": 4,
 "nbformat_minor": 5
}
