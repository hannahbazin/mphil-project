{
 "cells": [
  {
   "cell_type": "markdown",
   "id": "fe7035f1",
   "metadata": {},
   "source": [
    "# Make F1 matrix\n",
    "This script makes the drug-enrichmemt pathway score (F1 score) matrix. It also removes top level pathways(metabolism of lipids, apoptosis etc.)."
   ]
  },
  {
   "cell_type": "markdown",
   "id": "1ce162a1",
   "metadata": {},
   "source": []
  }
 ],
 "metadata": {
  "language_info": {
   "name": "python"
  }
 },
 "nbformat": 4,
 "nbformat_minor": 5
}
