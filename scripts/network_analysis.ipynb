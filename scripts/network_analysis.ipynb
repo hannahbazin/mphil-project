{
 "cells": [
  {
   "cell_type": "markdown",
   "id": "949e6b4d",
   "metadata": {},
   "source": [
    "This file contains the code for network analysis in my MPhil brown adipocyte differentiation project."
   ]
  },
  {
   "cell_type": "markdown",
   "id": "0ae118a4",
   "metadata": {},
   "source": [
    "## Download the PPI data"
   ]
  },
  {
   "cell_type": "markdown",
   "id": "88a38d20",
   "metadata": {},
   "source": [
    "This code chunk does not work because I don't know how to visually check if the file was downloaded."
   ]
  },
  {
   "cell_type": "code",
   "execution_count": null,
   "id": "8410b4fe",
   "metadata": {},
   "outputs": [
    {
     "ename": "",
     "evalue": "",
     "output_type": "error",
     "traceback": [
      "\u001b[1;31mThe Kernel crashed while executing code in the current cell or a previous cell. \n",
      "\u001b[1;31mPlease review the code in the cell(s) to identify a possible cause of the failure. \n",
      "\u001b[1;31mClick <a href='https://aka.ms/vscodeJupyterKernelCrash'>here</a> for more info. \n",
      "\u001b[1;31mView Jupyter <a href='command:jupyter.viewOutput'>log</a> for further details."
     ]
    }
   ],
   "source": [
    "import requests\n",
    "\n",
    "# Download the latest STRING database protein nodes file (human, v12.0, medium confidence, remove redundant interactions)\n",
    "url = \"https://stringdb-static.org/download/9606.protein.physical.links.detailed.v12.0.min400.onlyAB.csv.gz\"\n",
    "response = requests.get(url)\n",
    "with open(\"9606.protein.physical.links.detailed.v12.0.min400.onlyAB.csv.gz\", \"wb\") as f:\n",
    "    f.write(response.content)\n"
   ]
  }
 ],
 "metadata": {
  "kernelspec": {
   "display_name": "base",
   "language": "python",
   "name": "python3"
  },
  "language_info": {
   "codemirror_mode": {
    "name": "ipython",
    "version": 3
   },
   "file_extension": ".py",
   "mimetype": "text/x-python",
   "name": "python",
   "nbconvert_exporter": "python",
   "pygments_lexer": "ipython3",
   "version": "3.9.12"
  }
 },
 "nbformat": 4,
 "nbformat_minor": 5
}
