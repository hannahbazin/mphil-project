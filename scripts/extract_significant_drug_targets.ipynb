{
 "cells": [
  {
   "cell_type": "markdown",
   "id": "7f9e11ee",
   "metadata": {},
   "source": [
    "# Extract drug targets of significant drugs\n",
    "This script filters a drug–protein interaction dataset to retrieve the targets of a predefined list of significant drugs. It outputs a two-column DataFrame mapping each significant drug to its known protein targets, with one row per drug–target pair."
   ]
  },
  {
   "cell_type": "markdown",
   "id": "d672f08f",
   "metadata": {},
   "source": [
    "!!! Make sure you run the script \"extract_significant_drugs.ipynb\" before running this one (it generates one of the inputs for this function)."
   ]
  },
  {
   "cell_type": "code",
   "execution_count": 2,
   "id": "fb18caca",
   "metadata": {},
   "outputs": [],
   "source": [
    "import pandas as pd"
   ]
  },
  {
   "cell_type": "markdown",
   "id": "f6885652",
   "metadata": {},
   "source": [
    "## Function to extract and save targets of significant drugs (0.01 significance)"
   ]
  },
  {
   "cell_type": "code",
   "execution_count": 3,
   "id": "12617eff",
   "metadata": {},
   "outputs": [],
   "source": [
    "def extract_and_save_significant_targets(step, significant_res_path, output_path, combined_dpi_path=\"../data/networks/combined_DPI.csv\"):\n",
    "    print(f\"\\nExtracting significant targets for {step} ...\\n\")\n",
    "    \n",
    "    # Load files\n",
    "    significant_df = pd.read_csv(significant_res_path, index_col=0)\n",
    "    combined_dpi = pd.read_csv(combined_dpi_path)\n",
    "    \n",
    "    # Filter DPI to contain only significant drugs, sort alphabetically for clarity\n",
    "    significant_drugs = significant_df['drug'].unique()\n",
    "    significant_dpi = combined_dpi[combined_dpi['Drug_Name'].isin(significant_drugs)]\n",
    "    significant_dpi = significant_dpi.sort_values(by=['Drug_Name', 'Drug_Target']).reset_index(drop=True)\n",
    "\n",
    "    # Print summary information\n",
    "    print(f\"Number of unique significant drugs for {step}: {len(significant_dpi['Drug_Name'].unique())}\")\n",
    "    print(f\"Number of unique drug targets for {step}: {len(significant_dpi['Drug_Target'].unique())}\")\n",
    "\n",
    "    # Save to CSV\n",
    "    significant_dpi.to_csv(output_path, index=False)\n",
    "    print(f\"Significant targets extracted for {step} and saved to:\", output_path)"
   ]
  },
  {
   "cell_type": "markdown",
   "id": "59daec0b",
   "metadata": {},
   "source": [
    "## Extract significant drugs for whole gene list (1000 iterations)"
   ]
  },
  {
   "cell_type": "code",
   "execution_count": 6,
   "id": "e4785c3f",
   "metadata": {},
   "outputs": [
    {
     "name": "stdout",
     "output_type": "stream",
     "text": [
      "================== FOR WHOLE GENE LISTS (1000 ITERATIONS) ==================\n",
      "\n",
      "Extracting significant targets for step 1 of differentiation ...\n",
      "\n",
      "Number of unique significant drugs for step 1 of differentiation: 641\n",
      "Number of unique drug targets for step 1 of differentiation: 974\n",
      "Significant targets extracted for step 1 of differentiation and saved to: ../results/humanPVATsn/network_analysis/proximity_significant_drugs/significant_targets_whole_1000_step1.csv\n",
      "\n",
      "Extracting significant targets for step 2 of differentiation ...\n",
      "\n",
      "Number of unique significant drugs for step 2 of differentiation: 779\n",
      "Number of unique drug targets for step 2 of differentiation: 1213\n",
      "Significant targets extracted for step 2 of differentiation and saved to: ../results/humanPVATsn/network_analysis/proximity_significant_drugs/significant_targets_whole_1000_step2.csv\n",
      "\n",
      "Extracting significant targets for step 3 of differentiation ...\n",
      "\n",
      "Number of unique significant drugs for step 3 of differentiation: 636\n",
      "Number of unique drug targets for step 3 of differentiation: 1086\n",
      "Significant targets extracted for step 3 of differentiation and saved to: ../results/humanPVATsn/network_analysis/proximity_significant_drugs/significant_targets_whole_1000_step3.csv\n",
      "\n",
      "Extracting significant targets for full differentiation ...\n",
      "\n",
      "Number of unique significant drugs for full differentiation: 799\n",
      "Number of unique drug targets for full differentiation: 1050\n",
      "Significant targets extracted for full differentiation and saved to: ../results/humanPVATsn/network_analysis/proximity_significant_drugs/significant_targets_whole_1000_full_diff.csv\n"
     ]
    }
   ],
   "source": [
    "print(\"================== FOR WHOLE GENE LISTS (1000 ITERATIONS) ==================\")\n",
    "\n",
    "# Define proximity result file reading paths and significant drugs output paths\n",
    "steps = {\n",
    "    \"step 1 of differentiation\": {\n",
    "       \"significant_res_path\": \"../results/humanPVATsn/network_analysis/proximity_significant_drugs/significant_drugs_whole_1000_step1.csv\",\n",
    "       \"output_path\": \"../results/humanPVATsn/network_analysis/proximity_significant_drugs/significant_targets_whole_1000_step1.csv\"\n",
    "    },\n",
    "    \"step 2 of differentiation\": {\n",
    "       \"significant_res_path\": \"../results/humanPVATsn/network_analysis/proximity_significant_drugs/significant_drugs_whole_1000_step2.csv\",\n",
    "       \"output_path\": \"../results/humanPVATsn/network_analysis/proximity_significant_drugs/significant_targets_whole_1000_step2.csv\"\n",
    "    },\n",
    "    \"step 3 of differentiation\": {\n",
    "       \"significant_res_path\": \"../results/humanPVATsn/network_analysis/proximity_significant_drugs/significant_drugs_whole_1000_step3.csv\",\n",
    "       \"output_path\": \"../results/humanPVATsn/network_analysis/proximity_significant_drugs/significant_targets_whole_1000_step3.csv\"\n",
    "    },\n",
    "    \"full differentiation\": {\n",
    "      \"significant_res_path\": \"../results/humanPVATsn/network_analysis/proximity_significant_drugs/significant_drugs_whole_1000_full_diff.csv\",\n",
    "      \"output_path\": \"../results/humanPVATsn/network_analysis/proximity_significant_drugs/significant_targets_whole_1000_full_diff.csv\"\n",
    "   }\n",
    "}\n",
    "\n",
    "# Extract and save significant drugs for each step\n",
    "for step, paths in steps.items():\n",
    "    extract_and_save_significant_targets(step=step,\n",
    "                                         significant_res_path=paths[\"significant_res_path\"],\n",
    "                                         output_path=paths[\"output_path\"],\n",
    "                                         combined_dpi_path=\"../data/networks/combined_DPI.csv\"\n",
    "                                         )"
   ]
  },
  {
   "cell_type": "markdown",
   "id": "2cfeb26b",
   "metadata": {},
   "source": [
    "## Extract significant drugs for key gene list (100 iterations)"
   ]
  },
  {
   "cell_type": "code",
   "execution_count": 24,
   "id": "745b947e",
   "metadata": {},
   "outputs": [
    {
     "name": "stdout",
     "output_type": "stream",
     "text": [
      "================== FOR KEY GENE LISTS (100 ITERATIONS) ==================\n",
      "\n",
      "Extracting significant targets for step 1 of differentiation ...\n",
      "\n",
      "Number of unique significant drugs for step 1 of differentiation: 322\n",
      "Number of unique drug targets for step 1 of differentiation: 187\n",
      "Significant targets extracted for step 1 of differentiation and saved to: ../results/humanPVATsn/network_analysis/proximity_significant_drugs/significant_targets_key_100_step1.csv\n",
      "\n",
      "Extracting significant targets for step 2 of differentiation ...\n",
      "\n",
      "Number of unique significant drugs for step 2 of differentiation: 423\n",
      "Number of unique drug targets for step 2 of differentiation: 301\n",
      "Significant targets extracted for step 2 of differentiation and saved to: ../results/humanPVATsn/network_analysis/proximity_significant_drugs/significant_targets_key_100_step2.csv\n",
      "\n",
      "Extracting significant targets for step 3 of differentiation ...\n",
      "\n",
      "Number of unique significant drugs for step 3 of differentiation: 320\n",
      "Number of unique drug targets for step 3 of differentiation: 194\n",
      "Significant targets extracted for step 3 of differentiation and saved to: ../results/humanPVATsn/network_analysis/proximity_significant_drugs/significant_targets_key_100_step3.csv\n",
      "\n",
      "Extracting significant targets for full differentiation ...\n",
      "\n",
      "Number of unique significant drugs for full differentiation: 514\n",
      "Number of unique drug targets for full differentiation: 346\n",
      "Significant targets extracted for full differentiation and saved to: ../results/humanPVATsn/network_analysis/proximity_significant_drugs/significant_targets_key_100_full_diff.csv\n"
     ]
    }
   ],
   "source": [
    "print(\"================== FOR KEY GENE LISTS (100 ITERATIONS) ==================\")\n",
    "\n",
    "# Define proximity result file reading paths and significant drugs output paths\n",
    "steps = {\n",
    "    \"step 1 of differentiation\": {\n",
    "       \"significant_res_path\": \"../results/humanPVATsn/network_analysis/proximity_significant_drugs/significant_drugs_key_100_step1.csv\",\n",
    "       \"output_path\": \"../results/humanPVATsn/network_analysis/proximity_significant_drugs/significant_targets_key_100_step1.csv\"\n",
    "    },\n",
    "    \"step 2 of differentiation\": {\n",
    "       \"significant_res_path\": \"../results/humanPVATsn/network_analysis/proximity_significant_drugs/significant_drugs_key_100_step2.csv\",\n",
    "       \"output_path\": \"../results/humanPVATsn/network_analysis/proximity_significant_drugs/significant_targets_key_100_step2.csv\"\n",
    "   },\n",
    "    \"step 3 of differentiation\": {\n",
    "       \"significant_res_path\": \"../results/humanPVATsn/network_analysis/proximity_significant_drugs/significant_drugs_key_100_step3.csv\",\n",
    "       \"output_path\": \"../results/humanPVATsn/network_analysis/proximity_significant_drugs/significant_targets_key_100_step3.csv\"\n",
    "    },\n",
    "     \"full differentiation\": {\n",
    "       \"significant_res_path\": \"../results/humanPVATsn/network_analysis/proximity_significant_drugs/significant_drugs_key_100_full_diff.csv\",\n",
    "       \"output_path\": \"../results/humanPVATsn/network_analysis/proximity_significant_drugs/significant_targets_key_100_full_diff.csv\"\n",
    "    }\n",
    "}\n",
    "\n",
    "# Extract and save significant drugs for each step\n",
    "for step, paths in steps.items():\n",
    "    extract_and_save_significant_targets(step=step,\n",
    "                                         significant_res_path=paths[\"significant_res_path\"],\n",
    "                                         output_path=paths[\"output_path\"],\n",
    "                                         combined_dpi_path=\"../data/networks/combined_DPI.csv\"\n",
    "                                         )"
   ]
  },
  {
   "cell_type": "markdown",
   "id": "0de0996f",
   "metadata": {},
   "source": [
    "## Extract significant drugs for key gene list (1000 iterations)"
   ]
  },
  {
   "cell_type": "code",
   "execution_count": 4,
   "id": "bc1a10a6",
   "metadata": {},
   "outputs": [
    {
     "name": "stdout",
     "output_type": "stream",
     "text": [
      "================== FOR KEY GENE LISTS (1000 ITERATIONS) ==================\n",
      "\n",
      "Extracting significant targets for step 1 of differentiation ...\n",
      "\n",
      "Number of unique significant drugs for step 1 of differentiation: 335\n",
      "Number of unique drug targets for step 1 of differentiation: 227\n",
      "Significant targets extracted for step 1 of differentiation and saved to: ../results/humanPVATsn/network_analysis/proximity_significant_drugs/significant_targets_key_1000_step1.csv\n",
      "\n",
      "Extracting significant targets for step 2 of differentiation ...\n",
      "\n",
      "Number of unique significant drugs for step 2 of differentiation: 450\n",
      "Number of unique drug targets for step 2 of differentiation: 499\n",
      "Significant targets extracted for step 2 of differentiation and saved to: ../results/humanPVATsn/network_analysis/proximity_significant_drugs/significant_targets_key_1000_step2.csv\n",
      "\n",
      "Extracting significant targets for step 3 of differentiation ...\n",
      "\n",
      "Number of unique significant drugs for step 3 of differentiation: 314\n",
      "Number of unique drug targets for step 3 of differentiation: 179\n",
      "Significant targets extracted for step 3 of differentiation and saved to: ../results/humanPVATsn/network_analysis/proximity_significant_drugs/significant_targets_key_1000_step3.csv\n",
      "\n",
      "Extracting significant targets for full differentiation ...\n",
      "\n",
      "Number of unique significant drugs for full differentiation: 518\n",
      "Number of unique drug targets for full differentiation: 364\n",
      "Significant targets extracted for full differentiation and saved to: ../results/humanPVATsn/network_analysis/proximity_significant_drugs/significant_targets_key_1000_full_diff.csv\n"
     ]
    }
   ],
   "source": [
    "print(\"================== FOR KEY GENE LISTS (1000 ITERATIONS) ==================\")\n",
    "\n",
    "# Define proximity result file reading paths and significant drugs output paths\n",
    "steps = {\n",
    "    \"step 1 of differentiation\": {\n",
    "       \"significant_res_path\": \"../results/humanPVATsn/network_analysis/proximity_significant_drugs/significant_drugs_key_1000_step1.csv\",\n",
    "       \"output_path\": \"../results/humanPVATsn/network_analysis/proximity_significant_drugs/significant_targets_key_1000_step1.csv\"\n",
    "    } ,\n",
    "    \"step 2 of differentiation\": {\n",
    "        \"significant_res_path\": \"../results/humanPVATsn/network_analysis/proximity_significant_drugs/significant_drugs_key_1000_step2.csv\",\n",
    "        \"output_path\": \"../results/humanPVATsn/network_analysis/proximity_significant_drugs/significant_targets_key_1000_step2.csv\"\n",
    "   },\n",
    "   \"step 3 of differentiation\": {\n",
    "       \"significant_res_path\": \"../results/humanPVATsn/network_analysis/proximity_significant_drugs/significant_drugs_key_1000_step3.csv\",\n",
    "       \"output_path\": \"../results/humanPVATsn/network_analysis/proximity_significant_drugs/significant_targets_key_1000_step3.csv\"\n",
    "   },\n",
    "    \"full differentiation\": {\n",
    "      \"significant_res_path\": \"../results/humanPVATsn/network_analysis/proximity_significant_drugs/significant_drugs_key_1000_full_diff.csv\",\n",
    "      \"output_path\": \"../results/humanPVATsn/network_analysis/proximity_significant_drugs/significant_targets_key_1000_full_diff.csv\"\n",
    "   }\n",
    "}\n",
    "\n",
    "# Extract and save significant drugs for each step\n",
    "for step, paths in steps.items():\n",
    "    extract_and_save_significant_targets(step=step,\n",
    "                                         significant_res_path=paths[\"significant_res_path\"],\n",
    "                                         output_path=paths[\"output_path\"],\n",
    "                                         combined_dpi_path=\"../data/networks/combined_DPI.csv\"\n",
    "                                         )"
   ]
  },
  {
   "cell_type": "code",
   "execution_count": null,
   "id": "6eaed322",
   "metadata": {},
   "outputs": [],
   "source": []
  }
 ],
 "metadata": {
  "kernelspec": {
   "display_name": "bat_proximity_analysis",
   "language": "python",
   "name": "python3"
  },
  "language_info": {
   "codemirror_mode": {
    "name": "ipython",
    "version": 3
   },
   "file_extension": ".py",
   "mimetype": "text/x-python",
   "name": "python",
   "nbconvert_exporter": "python",
   "pygments_lexer": "ipython3",
   "version": "3.9.12"
  }
 },
 "nbformat": 4,
 "nbformat_minor": 5
}
